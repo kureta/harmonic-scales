{
 "cells": [
  {
   "cell_type": "markdown",
   "id": "b4c8f1db-2747-46ca-9377-51697f8857a0",
   "metadata": {},
   "source": [
    "# What is this?\n",
    "\n",
    "In 12-edo, all possible scales where all thirds are either major or minor thirds give us the most common, maybe the only scales used in western classical (extended tonality) music. Namely: major, melodic minor, harmonic minor, harmonic major, octatonic, wholetone, augmented, and their modes (rotations)\n",
    "\n",
    "Similarly, we can try to do the same for 31-edo, or put a constraint on other intervals, or put constraints on multiple intervals at the same time."
   ]
  },
  {
   "cell_type": "code",
   "execution_count": null,
   "id": "e4545b03-226d-46a5-ac0c-755fd0705fa0",
   "metadata": {
    "tags": []
   },
   "outputs": [],
   "source": [
    "from collections import Counter, deque\n",
    "from copy import copy\n",
    "from itertools import accumulate, product"
   ]
  },
  {
   "cell_type": "code",
   "execution_count": null,
   "id": "273e530d-b6ea-424a-8f85-3e0fc73ddd48",
   "metadata": {
    "tags": []
   },
   "outputs": [],
   "source": [
    "def contains(this, other):\n",
    "    return all([(a and b) or not a for a, b in zip(other, this)])\n",
    "\n",
    "\n",
    "class Necklace(deque):\n",
    "    def __eq__(self, other):\n",
    "        assert len(self) == len(other)\n",
    "        other = copy(other)\n",
    "        for idx in range(len(self)):\n",
    "            if deque.__eq__(self, other):\n",
    "                return True\n",
    "            other.rotate()\n",
    "        return False\n",
    "\n",
    "    def __ge__(self, other):\n",
    "        assert len(self) == len(other)\n",
    "        other = copy(other)\n",
    "        for idx in range(len(self)):\n",
    "            if contains(self, other):\n",
    "                return True\n",
    "            other.rotate()\n",
    "        return False\n",
    "\n",
    "    def __hash__(self):\n",
    "        cache = [self.copy() for _ in range(len(self))]\n",
    "        for n, val in enumerate(cache):\n",
    "            val.rotate(n)\n",
    "            cache[n] = tuple(val)\n",
    "\n",
    "        return hash(frozenset(Counter(tuple(cache)).items()))"
   ]
  },
  {
   "cell_type": "code",
   "execution_count": null,
   "id": "86bae5a8-8e09-4d75-98d1-2169b703ca31",
   "metadata": {
    "tags": []
   },
   "outputs": [],
   "source": [
    "def rotate_until_starts_with_one(s):\n",
    "    s = copy(s)\n",
    "    while s[0] != 1:\n",
    "        s.rotate()\n",
    "    return s"
   ]
  },
  {
   "cell_type": "code",
   "execution_count": null,
   "id": "0eba9d8c-54a6-4d4e-82e5-731a7af80e30",
   "metadata": {
    "tags": []
   },
   "outputs": [],
   "source": [
    "def all_necklaces(k, n):\n",
    "    all_lists = {min(i[j:] + i[:j] for j in range(n or 1)) for i in product(*[range(k)] * n)}\n",
    "    return [rotate_until_starts_with_one(Necklace(s)) for s in all_lists if any(n == 1 for n in s)]"
   ]
  },
  {
   "cell_type": "code",
   "execution_count": null,
   "id": "e7e50717-01ac-420b-bfb4-0744e8b9d9cf",
   "metadata": {
    "tags": []
   },
   "outputs": [],
   "source": [
    "def binary_to_delta(s):\n",
    "    s = rotate_until_starts_with_one(s)\n",
    "    return [len(a) + 1 for a in \"\".join(str(k) for k in s).split(\"1\")[1:]]"
   ]
  },
  {
   "cell_type": "code",
   "execution_count": null,
   "id": "c35c89c6-00b7-485f-a923-a25447b3a68b",
   "metadata": {
    "tags": []
   },
   "outputs": [],
   "source": [
    "def get_intervals(scale, window):\n",
    "    padded = scale + scale[: window - 1]\n",
    "    intervals = [sum(padded[i : i + window]) for i in range(len(scale))]\n",
    "\n",
    "    return intervals"
   ]
  },
  {
   "cell_type": "code",
   "execution_count": null,
   "id": "79936ba9-b587-4d75-a231-bdb111874aff",
   "metadata": {
    "tags": []
   },
   "outputs": [],
   "source": [
    "def is_valid(necklace, rules=[(2, [3, 4])]):\n",
    "    # default rule is `interval between every other note is either major or minor third`\n",
    "    scale = binary_to_delta(necklace)\n",
    "\n",
    "    valid = True\n",
    "    for rule in rules:\n",
    "        window = rule[0]\n",
    "        allowed = rule[1]\n",
    "        intervals = get_intervals(scale, window)\n",
    "\n",
    "        valid = valid and all((a in allowed) for a in intervals)\n",
    "\n",
    "    return valid"
   ]
  },
  {
   "cell_type": "code",
   "execution_count": null,
   "id": "e46d3e4f-e35d-46b5-bdb0-d602e3fed9e6",
   "metadata": {
    "tags": []
   },
   "outputs": [],
   "source": [
    "scales = all_necklaces(2, 12)"
   ]
  },
  {
   "cell_type": "code",
   "execution_count": null,
   "id": "db6ab3e3-98c9-4beb-802e-133f2c716f7c",
   "metadata": {
    "tags": []
   },
   "outputs": [],
   "source": [
    "quartal = [s for s in scales if is_valid(s, [(2, [2, 3, 4]), (3, [4, 5, 6])])]\n",
    "triadic = [s for s in scales if is_valid(s)]"
   ]
  },
  {
   "cell_type": "code",
   "execution_count": null,
   "id": "7ce0f6a8-bd1b-4f0f-9130-f5d5ff071a66",
   "metadata": {
    "tags": []
   },
   "outputs": [],
   "source": [
    "exclusive = [q for q in quartal if q not in triadic]"
   ]
  },
  {
   "cell_type": "code",
   "execution_count": null,
   "id": "dd369758-4a13-49fd-9b5f-7ea1b43a072e",
   "metadata": {
    "tags": []
   },
   "outputs": [],
   "source": [
    "for e in exclusive:\n",
    "    intervals = binary_to_delta(e)\n",
    "    fourths = get_intervals(binary_to_delta(e), 2)\n",
    "\n",
    "    print(intervals, [(fourths.count(s), s) for s in set(fourths)])"
   ]
  },
  {
   "cell_type": "code",
   "execution_count": null,
   "id": "b49d83c7-4784-47d5-9fe2-58de65776ee7",
   "metadata": {
    "tags": []
   },
   "outputs": [],
   "source": [
    "len(quartal), len(exclusive)"
   ]
  },
  {
   "cell_type": "code",
   "execution_count": null,
   "id": "c3582106-da59-44b3-a807-9899ba511feb",
   "metadata": {},
   "outputs": [],
   "source": []
  }
 ],
 "metadata": {
  "kernelspec": {
   "display_name": "Python 3 (ipykernel)",
   "language": "python",
   "name": "python3"
  },
  "language_info": {
   "codemirror_mode": {
    "name": "ipython",
    "version": 3
   },
   "file_extension": ".py",
   "mimetype": "text/x-python",
   "name": "python",
   "nbconvert_exporter": "python",
   "pygments_lexer": "ipython3",
   "version": "3.11.8"
  }
 },
 "nbformat": 4,
 "nbformat_minor": 5
}
