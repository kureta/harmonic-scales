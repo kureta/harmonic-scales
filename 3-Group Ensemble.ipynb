{
 "cells": [
  {
   "cell_type": "code",
   "execution_count": null,
   "id": "naval-notification",
   "metadata": {
    "tags": []
   },
   "outputs": [],
   "source": [
    "import matplotlib.pyplot as plt\n",
    "import networkx as nx\n",
    "import numpy as np\n",
    "\n",
    "plt.rcParams[\"figure.figsize\"] = [17, 17]"
   ]
  },
  {
   "cell_type": "code",
   "execution_count": null,
   "id": "weighted-drilling",
   "metadata": {
    "tags": []
   },
   "outputs": [],
   "source": [
    "class Harm:\n",
    "    def __init__(self, a, b, c):\n",
    "        self.a, self.b, self.c = a, b, c\n",
    "\n",
    "    def __add__(self, other):\n",
    "        result = Harm(0, 0, 0)\n",
    "        result.a = (self.a + other.a) % 2\n",
    "        result.b = (self.b + other.b) % 2\n",
    "\n",
    "        value = [9, 7][(self.a + self.b) % 2]\n",
    "        sign = [-1, 1][self.b]\n",
    "        gate = other.a * other.b\n",
    "\n",
    "        result.c = (self.c + value * sign * gate) % 12\n",
    "        return result\n",
    "\n",
    "    def __eq__(self, other):\n",
    "        return (\n",
    "            isinstance(other, self.__class__)\n",
    "            and self.a == other.a\n",
    "            and self.b == other.b\n",
    "            and self.c == other.c\n",
    "        )\n",
    "\n",
    "    def __hash__(self):\n",
    "        return hash(self.a) ^ hash(self.b) ^ hash(self.c)\n",
    "\n",
    "    def __repr__(self):\n",
    "        return f\"({self.a}, {self.b}, {self.c})\""
   ]
  },
  {
   "cell_type": "code",
   "execution_count": null,
   "id": "alternative-programmer",
   "metadata": {
    "tags": []
   },
   "outputs": [],
   "source": [
    "generators = [Harm(1, 0, 0), Harm(0, 1, 0), Harm(1, 1, 0)]"
   ]
  },
  {
   "cell_type": "code",
   "execution_count": null,
   "id": "steady-hungary",
   "metadata": {
    "tags": []
   },
   "outputs": [],
   "source": [
    "G = nx.Graph()\n",
    "todo = [Harm(0, 0, 0)]\n",
    "\n",
    "while todo:\n",
    "    current = todo.pop()\n",
    "    for op in generators:\n",
    "        adjacent = current + op\n",
    "        edge = (current, adjacent)\n",
    "        if edge not in G.edges:\n",
    "            G.add_edge(*edge, edge_label=op)\n",
    "            todo.append(adjacent)"
   ]
  },
  {
   "cell_type": "code",
   "execution_count": null,
   "id": "forward-broad",
   "metadata": {
    "tags": []
   },
   "outputs": [],
   "source": [
    "def layout(graph):\n",
    "    theta_offsets = {\n",
    "        (1, 1): 0,\n",
    "        (0, 1): -1,\n",
    "        (1, 0): -1,\n",
    "        (0, 0): -2,\n",
    "    }\n",
    "\n",
    "    r_offsets = {\n",
    "        (1, 1): 2,\n",
    "        (0, 1): 3,\n",
    "        (1, 0): 0,\n",
    "        (0, 0): 1,\n",
    "    }\n",
    "\n",
    "    thetas = [((7 * n.c + 3) + theta_offsets[(n.a, n.b)]) * (2 * np.pi / 12) for n in graph.nodes]\n",
    "    rs = [r_offsets[(n.a, n.b)] * 2 + 5 for n in graph.nodes]\n",
    "    return {n: (r * np.cos(t), r * np.sin(t)) for n, r, t in zip(graph.nodes, rs, thetas)}"
   ]
  },
  {
   "cell_type": "code",
   "execution_count": null,
   "id": "demanding-istanbul",
   "metadata": {
    "tags": []
   },
   "outputs": [],
   "source": [
    "pos = layout(G)\n",
    "generator_colors = {op: c for op, c in zip(generators, [\"r\", \"g\", \"b\"])}\n",
    "edge_colors = [generator_colors[data[2][\"edge_label\"]] for data in G.edges.data()]\n",
    "nx.draw_networkx_nodes(G, pos, node_color=\"r\", node_size=500)\n",
    "node_names = {\n",
    "    (1, 1): \"M\",\n",
    "    (0, 1): \"m\",\n",
    "    (1, 0): \"H\",\n",
    "    (0, 0): \"h\",\n",
    "}\n",
    "node_labels = {node: f\"{node_names[(node.a, node.b)]}{node.c}\" for node in G.nodes}\n",
    "nx.draw_networkx_labels(\n",
    "    G, {key: (val[0], val[1] + 0.5) for key, val in pos.items()}, node_labels, font_size=21\n",
    ")\n",
    "nx.draw_networkx_edges(\n",
    "    G,\n",
    "    pos,\n",
    "    width=5,\n",
    "    alpha=0.5,\n",
    "    edge_color=edge_colors,\n",
    ")\n",
    "plt.show()"
   ]
  },
  {
   "cell_type": "code",
   "execution_count": null,
   "id": "moral-navigation",
   "metadata": {},
   "outputs": [],
   "source": []
  }
 ],
 "metadata": {
  "kernelspec": {
   "display_name": "Python 3 (ipykernel)",
   "language": "python",
   "name": "python3"
  },
  "language_info": {
   "codemirror_mode": {
    "name": "ipython",
    "version": 3
   },
   "file_extension": ".py",
   "mimetype": "text/x-python",
   "name": "python",
   "nbconvert_exporter": "python",
   "pygments_lexer": "ipython3",
   "version": "3.11.8"
  }
 },
 "nbformat": 4,
 "nbformat_minor": 5
}
