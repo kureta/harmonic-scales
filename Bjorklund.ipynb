{
 "cells": [
  {
   "cell_type": "code",
   "execution_count": null,
   "id": "suburban-import",
   "metadata": {
    "tags": []
   },
   "outputs": [],
   "source": [
    "def delta_to_pulse(deltas):\n",
    "    pulses = sum([[1] + (k - 1) * [0] for k in deltas], start=[])\n",
    "    return pulses\n",
    "\n",
    "\n",
    "def elem_sum(a, b):\n",
    "    return [m + n for m, n in zip(a, b)]\n",
    "\n",
    "\n",
    "def bjorklund(divisions, beats):\n",
    "    k, rest = divmod(divisions, beats)\n",
    "    if rest == 0:\n",
    "        return beats * [k]\n",
    "    return elem_sum(beats * [k], delta_to_pulse(bjorklund(beats, rest)))"
   ]
  },
  {
   "cell_type": "code",
   "execution_count": null,
   "id": "convertible-software",
   "metadata": {
    "tags": []
   },
   "outputs": [],
   "source": [
    "bjorklund(31, 7)"
   ]
  },
  {
   "cell_type": "code",
   "execution_count": null,
   "id": "focal-pleasure",
   "metadata": {},
   "outputs": [],
   "source": []
  }
 ],
 "metadata": {
  "kernelspec": {
   "display_name": "Python 3 (ipykernel)",
   "language": "python",
   "name": "python3"
  },
  "language_info": {
   "codemirror_mode": {
    "name": "ipython",
    "version": 3
   },
   "file_extension": ".py",
   "mimetype": "text/x-python",
   "name": "python",
   "nbconvert_exporter": "python",
   "pygments_lexer": "ipython3",
   "version": "3.11.7"
  }
 },
 "nbformat": 4,
 "nbformat_minor": 5
}
