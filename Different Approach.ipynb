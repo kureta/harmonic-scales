{
 "cells": [
  {
   "cell_type": "code",
   "execution_count": null,
   "id": "naughty-substitute",
   "metadata": {},
   "outputs": [],
   "source": [
    "import matplotlib.pyplot as plt\n",
    "import networkx as nx\n",
    "import numpy as np\n",
    "\n",
    "plt.rcParams[\"figure.figsize\"] = [17, 17]"
   ]
  },
  {
   "cell_type": "code",
   "execution_count": null,
   "id": "african-reward",
   "metadata": {},
   "outputs": [],
   "source": [
    "from collections import defaultdict\n",
    "\n",
    "from harmony import BinaryNecklace"
   ]
  },
  {
   "cell_type": "code",
   "execution_count": null,
   "id": "funded-attribute",
   "metadata": {},
   "outputs": [],
   "source": [
    "def rotate_(scale):\n",
    "    result = scale[1:] + scale[:1]\n",
    "    while result[0] != 1:\n",
    "        result = rotate(result)\n",
    "    return result"
   ]
  },
  {
   "cell_type": "code",
   "execution_count": null,
   "id": "excess-shopper",
   "metadata": {},
   "outputs": [],
   "source": [
    "I = [2, 2, 1, 2, 2, 2, 1]  # noqa\n",
    "m = [2, 1, 2, 2, 2, 2, 1]  # noqa\n",
    "H = [2, 2, 1, 2, 1, 3, 1]  # noqa\n",
    "h = [2, 1, 2, 2, 1, 3, 1]  # noqa\n",
    "scales = {\n",
    "    \"I\": I,\n",
    "    \"m\": m,\n",
    "    \"H\": H,\n",
    "    \"h\": h,\n",
    "}"
   ]
  },
  {
   "cell_type": "code",
   "execution_count": null,
   "id": "indonesian-clark",
   "metadata": {},
   "outputs": [],
   "source": [
    "def is_harmonic(scale):\n",
    "    return all([scale[idx] + scale[(idx + 1) % len(scale)] in [3, 4] for idx in range(len(scale))])"
   ]
  },
  {
   "cell_type": "code",
   "execution_count": null,
   "id": "divine-occupation",
   "metadata": {},
   "outputs": [],
   "source": [
    "def rotate(x, idx):\n",
    "    return x[idx:] + x[:idx]"
   ]
  },
  {
   "cell_type": "code",
   "execution_count": null,
   "id": "stock-preview",
   "metadata": {},
   "outputs": [],
   "source": [
    "def modify_step(scale, step):\n",
    "    flattened = scale.copy()\n",
    "    sharpened = scale.copy()\n",
    "    flattened[step] += 1\n",
    "    flattened[(step - 1) % len(scale)] -= 1\n",
    "    sharpened[step] -= 1\n",
    "    sharpened[(step - 1) % len(scale)] += 1\n",
    "\n",
    "    if is_harmonic(flattened) and is_harmonic(sharpened):\n",
    "        print(\"this sucks\")\n",
    "        return False\n",
    "    elif is_harmonic(flattened) and 0 not in flattened:\n",
    "        return flattened\n",
    "    elif is_harmonic(sharpened) and 0 not in sharpened:\n",
    "        return sharpened\n",
    "    return False"
   ]
  },
  {
   "cell_type": "code",
   "execution_count": null,
   "id": "continued-fifteen",
   "metadata": {},
   "outputs": [],
   "source": [
    "results = defaultdict(list)\n",
    "for name, scale in scales.items():\n",
    "    for mode in range(7):\n",
    "        current = rotate(scale, mode)\n",
    "        for step in range(7):\n",
    "            result = modify_step(current, step)\n",
    "            if result:\n",
    "                results[f\"{name}{mode+1}\"].append(step + 1)\n",
    "results = dict(results)\n",
    "for k, v in results.items():\n",
    "    results[k] = sorted(v)"
   ]
  },
  {
   "cell_type": "code",
   "execution_count": null,
   "id": "corresponding-converter",
   "metadata": {},
   "outputs": [],
   "source": [
    "results"
   ]
  },
  {
   "cell_type": "code",
   "execution_count": null,
   "id": "cardiac-carroll",
   "metadata": {},
   "outputs": [],
   "source": [
    "transforms = []\n",
    "for k, v in results.items():\n",
    "    if k[0].lower() == \"h\":\n",
    "        if v not in transforms:\n",
    "            transforms.append(v)\n",
    "transforms"
   ]
  },
  {
   "cell_type": "markdown",
   "id": "tested-northeast",
   "metadata": {},
   "source": [
    "```\n",
    "(0, R) + Op0 = (1, R)\n",
    "(0, R) + Op1 = (2, R)\n",
    "(0, R) + Op2 = (0, R+4)\n",
    "\n",
    "(0, R+1) + Op0 = (0, R+4)\n",
    "(0, R+1) + Op1 = (0, R+5)\n",
    "(0, R+1) + Op2 = (1, R)\n",
    "\n",
    "(1, R+4) + Op0 = (0, R+5)\n",
    "(1, R+4) + Op1 = (0, R+4)\n",
    "(1, R+4) + Op2 = (2, R)\n",
    "\n",
    "(3, R) + Op0 = (2, R)\n",
    "(3, R) + Op1 = (1, R)\n",
    "(3, R) + Op2 = (0, R+5)\n",
    "```"
   ]
  },
  {
   "cell_type": "code",
   "execution_count": null,
   "id": "saved-talent",
   "metadata": {},
   "outputs": [],
   "source": [
    "def edges_for_rotation(r):\n",
    "    edges = []\n",
    "    edge_colors = []\n",
    "\n",
    "    edges.append(((0, r), (1, r)))\n",
    "    edge_colors.append((r + 2) % 7)\n",
    "    edges.append(((0, r), (2, r)))\n",
    "    edge_colors.append((r + 5) % 7)\n",
    "    edges.append(((0, r), (0, (r + 4) % 7)))\n",
    "    edge_colors.append((r + 6) % 7)\n",
    "\n",
    "    edges.append(((0, (r + 1) % 7), (0, (r + 4) % 7)))\n",
    "    edge_colors.append((r + 2) % 7)\n",
    "    edges.append(((0, (r + 1) % 7), (0, (r + 5) % 7)))\n",
    "    edge_colors.append((r + 5) % 7)\n",
    "    edges.append(((0, (r + 1) % 7), (1, r)))\n",
    "    edge_colors.append((r + 6) % 7)\n",
    "\n",
    "    edges.append(((1, (r + 4) % 7), (0, (r + 5) % 7)))\n",
    "    edge_colors.append((r + 2) % 7)\n",
    "    edges.append(((0, (r + 4) % 7), (0, (r + 4) % 7)))\n",
    "    edge_colors.append((r + 5) % 7)\n",
    "    edges.append(((0, (r + 4) % 7), (2, r)))\n",
    "    edge_colors.append((r + 6) % 7)\n",
    "\n",
    "    edges.append(((3, r), (2, r)))\n",
    "    edge_colors.append((r + 2) % 7)\n",
    "    edges.append(((3, r), (1, r)))\n",
    "    edge_colors.append((r + 5) % 7)\n",
    "    edges.append(((3, r), (0, (r + 5) % 7)))\n",
    "    edge_colors.append((r + 6) % 7)\n",
    "\n",
    "    return edges, edge_colors\n",
    "\n",
    "\n",
    "G = nx.Graph()\n",
    "for r in range(7):\n",
    "    c_edges, c_colors = edges_for_rotation(r)\n",
    "    for e, c in zip(c_edges, c_colors):\n",
    "        if e not in G.edges:\n",
    "            G.add_edge(*e, edge_label=c)"
   ]
  },
  {
   "cell_type": "code",
   "execution_count": null,
   "id": "demanding-shoot",
   "metadata": {},
   "outputs": [],
   "source": [
    "pos = nx.spring_layout(G)\n",
    "generator_colors = [\"r\", \"g\", \"b\", \"c\", \"m\", \"y\", \"k\"]\n",
    "edge_colors = [generator_colors[data[2][\"edge_label\"]] for data in G.edges.data()]\n",
    "nx.draw_networkx_nodes(\n",
    "    G,\n",
    "    pos,\n",
    "    node_color=\"r\",\n",
    "    node_size=500,\n",
    ")\n",
    "node_labels = {node: f\"{['I', 'm', 'H', 'h'][node[0]]}{node[1]}\" for node in G.nodes}\n",
    "nx.draw_networkx_labels(\n",
    "    G, {key: (val[0], val[1] + 0.04) for key, val in pos.items()}, node_labels, font_size=21\n",
    ")\n",
    "nx.draw_networkx_edges(\n",
    "    G,\n",
    "    pos,\n",
    "    width=5,\n",
    "    alpha=0.5,\n",
    "    edge_color=edge_colors,\n",
    ")\n",
    "plt.show()"
   ]
  },
  {
   "cell_type": "code",
   "execution_count": null,
   "id": "supposed-particle",
   "metadata": {},
   "outputs": [],
   "source": [
    "len(G.nodes)"
   ]
  },
  {
   "cell_type": "code",
   "execution_count": null,
   "id": "modified-animal",
   "metadata": {},
   "outputs": [],
   "source": []
  }
 ],
 "metadata": {
  "kernelspec": {
   "display_name": "Python 3 (ipykernel)",
   "language": "python",
   "name": "python3"
  },
  "language_info": {
   "codemirror_mode": {
    "name": "ipython",
    "version": 3
   },
   "file_extension": ".py",
   "mimetype": "text/x-python",
   "name": "python",
   "nbconvert_exporter": "python",
   "pygments_lexer": "ipython3",
   "version": "3.10.10"
  }
 },
 "nbformat": 4,
 "nbformat_minor": 5
}
