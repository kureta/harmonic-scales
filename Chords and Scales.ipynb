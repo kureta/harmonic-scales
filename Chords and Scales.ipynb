{
 "cells": [
  {
   "cell_type": "code",
   "execution_count": 16,
   "id": "f16158b6",
   "metadata": {},
   "outputs": [],
   "source": [
    "from collections import deque\n",
    "from copy import copy"
   ]
  },
  {
   "cell_type": "code",
   "execution_count": 9,
   "id": "2362a47f",
   "metadata": {},
   "outputs": [],
   "source": [
    "major = [1, 0, 1, 0, 1, 1, 0, 1, 0, 1, 0, 1]\n",
    "melodic_minor = [1, 0, 1, 1, 0, 1, 0, 1, 0, 1, 0, 1]\n",
    "harmonic_minor = [1, 0, 1, 1, 0, 1, 0, 1, 1, 0, 0, 1]\n",
    "harmonic_major = [1, 0, 1, 0, 1, 1, 0, 1, 1, 0, 0, 1]\n",
    "wholetone = [1, 0, 1, 0, 1, 0, 1, 0, 1, 0, 1, 0]  # has only 2 colors (transpositions)\n",
    "octatonic = [1, 0, 1, 1, 0, 1, 1, 0, 1, 1, 0, 1]  # 3 colors\n",
    "augmented = [1, 1, 0, 0, 1, 1, 0, 0, 1, 1, 0, 0]  # 4 colors"
   ]
  },
  {
   "cell_type": "code",
   "execution_count": 4,
   "id": "00340bda",
   "metadata": {},
   "outputs": [],
   "source": [
    "class Necklace(deque):\n",
    "    def __eq__(self, other):\n",
    "        assert len(self) == len(other)\n",
    "        other = copy(other)\n",
    "        for idx in range(len(self)):\n",
    "            if deque.__eq__(self, other):\n",
    "                return True\n",
    "            other.rotate()\n",
    "        return False\n",
    "    \n",
    "    def __single_ge(self, other):\n",
    "        return all([(a and b) or not a for a, b in zip(other, self)])\n",
    "    \n",
    "    def __ge__(self, other):\n",
    "        assert len(self) == len(other)\n",
    "        other = copy(other)\n",
    "        for idx in range(len(self)):\n",
    "            if self.__single_ge(other):\n",
    "                return True\n",
    "            other.rotate()\n",
    "        return False"
   ]
  },
  {
   "cell_type": "code",
   "execution_count": 37,
   "id": "306fb944",
   "metadata": {},
   "outputs": [],
   "source": [
    "def get_children(scale):\n",
    "    index = -1\n",
    "    children = []\n",
    "    for idx in range(sum(scale)):\n",
    "        index = scale.index(1, index+1)\n",
    "        current = copy(scale)\n",
    "        current[index] = 0\n",
    "        if current not in children:\n",
    "            children.append(current)\n",
    "    \n",
    "    return children"
   ]
  },
  {
   "cell_type": "code",
   "execution_count": 52,
   "id": "828ec617",
   "metadata": {},
   "outputs": [],
   "source": [
    "def get_grandchildren(children):\n",
    "    grandchildren = []\n",
    "    for child in children:\n",
    "        for grandchild in get_children(child):\n",
    "            if grandchild not in grandchildren:\n",
    "                grandchildren.append(grandchild)\n",
    "    return grandchildren"
   ]
  },
  {
   "cell_type": "code",
   "execution_count": 93,
   "id": "457c1733",
   "metadata": {},
   "outputs": [],
   "source": [
    "M7 = Necklace(augmented)"
   ]
  },
  {
   "cell_type": "code",
   "execution_count": 94,
   "id": "ba84c4ab",
   "metadata": {},
   "outputs": [
    {
     "name": "stdout",
     "output_type": "stream",
     "text": [
      "Necklace([1, 1, 0, 0, 1, 1, 0, 0, 1, 1, 0, 0])\n"
     ]
    }
   ],
   "source": [
    "print(M7)"
   ]
  },
  {
   "cell_type": "code",
   "execution_count": 95,
   "id": "80461be9",
   "metadata": {},
   "outputs": [
    {
     "name": "stdout",
     "output_type": "stream",
     "text": [
      "2\n",
      "Necklace([0, 1, 0, 0, 1, 1, 0, 0, 1, 1, 0, 0])\n",
      "Necklace([1, 0, 0, 0, 1, 1, 0, 0, 1, 1, 0, 0])\n"
     ]
    }
   ],
   "source": [
    "M6s = get_children(M7)\n",
    "print(len(M6s))\n",
    "for val in M6s:\n",
    "    print(val)"
   ]
  },
  {
   "cell_type": "code",
   "execution_count": 96,
   "id": "033a8ebb",
   "metadata": {},
   "outputs": [
    {
     "name": "stdout",
     "output_type": "stream",
     "text": [
      "5\n",
      "Necklace([0, 0, 0, 0, 1, 1, 0, 0, 1, 1, 0, 0])\n",
      "Necklace([0, 1, 0, 0, 0, 1, 0, 0, 1, 1, 0, 0])\n",
      "Necklace([0, 1, 0, 0, 1, 0, 0, 0, 1, 1, 0, 0])\n",
      "Necklace([0, 1, 0, 0, 1, 1, 0, 0, 1, 0, 0, 0])\n",
      "Necklace([1, 0, 0, 0, 1, 0, 0, 0, 1, 1, 0, 0])\n"
     ]
    }
   ],
   "source": [
    "M5s = get_grandchildren(M6s)\n",
    "print(len(M5s))\n",
    "for val in M5s:\n",
    "    print(val)"
   ]
  },
  {
   "cell_type": "code",
   "execution_count": 97,
   "id": "06d5de63",
   "metadata": {},
   "outputs": [
    {
     "name": "stdout",
     "output_type": "stream",
     "text": [
      "7\n",
      "Necklace([0, 0, 0, 0, 0, 1, 0, 0, 1, 1, 0, 0])\n",
      "Necklace([0, 0, 0, 0, 1, 0, 0, 0, 1, 1, 0, 0])\n",
      "Necklace([0, 0, 0, 0, 1, 1, 0, 0, 0, 1, 0, 0])\n",
      "Necklace([0, 0, 0, 0, 1, 1, 0, 0, 1, 0, 0, 0])\n",
      "Necklace([0, 1, 0, 0, 0, 1, 0, 0, 0, 1, 0, 0])\n",
      "Necklace([0, 1, 0, 0, 0, 1, 0, 0, 1, 0, 0, 0])\n",
      "Necklace([0, 1, 0, 0, 1, 0, 0, 0, 1, 0, 0, 0])\n"
     ]
    }
   ],
   "source": [
    "M4s = get_grandchildren(M5s)\n",
    "print(len(M4s))\n",
    "for val in M4s:\n",
    "    print(val)"
   ]
  },
  {
   "cell_type": "code",
   "execution_count": 98,
   "id": "86851cdf",
   "metadata": {},
   "outputs": [
    {
     "name": "stdout",
     "output_type": "stream",
     "text": [
      "4\n",
      "Necklace([0, 0, 0, 0, 0, 0, 0, 0, 1, 1, 0, 0])\n",
      "Necklace([0, 0, 0, 0, 0, 1, 0, 0, 0, 1, 0, 0])\n",
      "Necklace([0, 0, 0, 0, 0, 1, 0, 0, 1, 0, 0, 0])\n",
      "Necklace([0, 0, 0, 0, 1, 0, 0, 0, 0, 1, 0, 0])\n"
     ]
    }
   ],
   "source": [
    "M3s = get_grandchildren(M4s)\n",
    "print(len(M3s))\n",
    "for val in M3s:\n",
    "    print(val)"
   ]
  },
  {
   "cell_type": "code",
   "execution_count": 99,
   "id": "851995d3",
   "metadata": {},
   "outputs": [
    {
     "name": "stdout",
     "output_type": "stream",
     "text": [
      "1\n",
      "Necklace([0, 0, 0, 0, 0, 0, 0, 0, 0, 1, 0, 0])\n"
     ]
    }
   ],
   "source": [
    "M2s = get_grandchildren(M3s)\n",
    "print(len(M2s))\n",
    "for val in M2s:\n",
    "    print(val)"
   ]
  },
  {
   "cell_type": "code",
   "execution_count": 100,
   "id": "9c737127",
   "metadata": {},
   "outputs": [
    {
     "name": "stdout",
     "output_type": "stream",
     "text": [
      "1\n",
      "Necklace([0, 0, 0, 0, 0, 0, 0, 0, 0, 0, 0, 0])\n"
     ]
    }
   ],
   "source": [
    "M1s = get_grandchildren(M2s)\n",
    "print(len(M1s))\n",
    "for val in M1s:\n",
    "    print(val)"
   ]
  },
  {
   "cell_type": "code",
   "execution_count": null,
   "id": "6f1bed90",
   "metadata": {},
   "outputs": [],
   "source": []
  }
 ],
 "metadata": {
  "kernelspec": {
   "display_name": "Python 3 (ipykernel)",
   "language": "python",
   "name": "python3"
  },
  "language_info": {
   "codemirror_mode": {
    "name": "ipython",
    "version": 3
   },
   "file_extension": ".py",
   "mimetype": "text/x-python",
   "name": "python",
   "nbconvert_exporter": "python",
   "pygments_lexer": "ipython3",
   "version": "3.9.7"
  }
 },
 "nbformat": 4,
 "nbformat_minor": 5
}
