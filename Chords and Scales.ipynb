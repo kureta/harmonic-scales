{
 "cells": [
  {
   "cell_type": "code",
   "execution_count": null,
   "id": "f16158b6",
   "metadata": {},
   "outputs": [],
   "source": [
    "from collections import Counter, defaultdict, deque\n",
    "from copy import copy\n",
    "from dataclasses import dataclass\n",
    "\n",
    "import matplotlib.pyplot as plt\n",
    "import numpy as np\n",
    "\n",
    "plt.rcParams[\"figure.figsize\"] = [17, 17]"
   ]
  },
  {
   "cell_type": "code",
   "execution_count": null,
   "id": "2362a47f",
   "metadata": {},
   "outputs": [],
   "source": [
    "major = [1, 0, 1, 0, 1, 1, 0, 1, 0, 1, 0, 1]\n",
    "melodic_minor = [1, 0, 1, 1, 0, 1, 0, 1, 0, 1, 0, 1]\n",
    "harmonic_minor = [1, 0, 1, 1, 0, 1, 0, 1, 1, 0, 0, 1]\n",
    "harmonic_major = [1, 0, 1, 0, 1, 1, 0, 1, 1, 0, 0, 1]\n",
    "wholetone = [1, 0, 1, 0, 1, 0, 1, 0, 1, 0, 1, 0]  # has only 2 colors (transpositions)\n",
    "octatonic = [1, 0, 1, 1, 0, 1, 1, 0, 1, 1, 0, 1]  # 3 colors\n",
    "augmented = [1, 1, 0, 0, 1, 1, 0, 0, 1, 1, 0, 0]  # 4 colors\n",
    "\n",
    "scales = {\n",
    "    \"major\": major,\n",
    "    \"melodic_minor\": melodic_minor,\n",
    "    \"harmonic_major\": harmonic_major,\n",
    "    \"harmonic_minor\": harmonic_minor,\n",
    "    \"wholetone\": wholetone,\n",
    "    \"octatonic\": octatonic,\n",
    "    \"augmented\": augmented,\n",
    "}"
   ]
  },
  {
   "cell_type": "code",
   "execution_count": null,
   "id": "00340bda",
   "metadata": {},
   "outputs": [],
   "source": [
    "class Necklace(deque):\n",
    "    def __eq__(self, other):\n",
    "        assert len(self) == len(other)\n",
    "        other = copy(other)\n",
    "        for idx in range(len(self)):\n",
    "            if deque.__eq__(self, other):\n",
    "                return True\n",
    "            other.rotate()\n",
    "        return False\n",
    "\n",
    "    def __single_ge(self, other):\n",
    "        return all([(a and b) or not a for a, b in zip(other, self)])\n",
    "\n",
    "    def __ge__(self, other):\n",
    "        assert len(self) == len(other)\n",
    "        other = copy(other)\n",
    "        for idx in range(len(self)):\n",
    "            if self.__single_ge(other):\n",
    "                return True\n",
    "            other.rotate()\n",
    "        return False\n",
    "\n",
    "    def __hash__(self):\n",
    "        cache = [self.copy() for _ in range(len(self))]\n",
    "        for n, val in enumerate(cache):\n",
    "            val.rotate(n)\n",
    "            cache[n] = tuple(val)\n",
    "\n",
    "        return hash(frozenset(Counter(tuple(cache)).items()))"
   ]
  },
  {
   "cell_type": "code",
   "execution_count": null,
   "id": "306fb944",
   "metadata": {},
   "outputs": [],
   "source": [
    "def get_children(scale):\n",
    "    index = -1\n",
    "    children = []\n",
    "    for idx in range(sum(scale)):\n",
    "        index = scale.index(1, index + 1)\n",
    "        current = copy(scale)\n",
    "        current[index] = 0\n",
    "        if current not in children:\n",
    "            children.append(current)\n",
    "\n",
    "    return children"
   ]
  },
  {
   "cell_type": "code",
   "execution_count": null,
   "id": "828ec617",
   "metadata": {},
   "outputs": [],
   "source": [
    "def get_grandchildren(children):\n",
    "    grandchildren = []\n",
    "    for child in children:\n",
    "        for grandchild in get_children(child):\n",
    "            if grandchild not in grandchildren:\n",
    "                grandchildren.append(grandchild)\n",
    "    return grandchildren"
   ]
  },
  {
   "cell_type": "code",
   "execution_count": null,
   "id": "457c1733",
   "metadata": {},
   "outputs": [],
   "source": [
    "M7 = Necklace(augmented)"
   ]
  },
  {
   "cell_type": "code",
   "execution_count": null,
   "id": "ba84c4ab",
   "metadata": {},
   "outputs": [],
   "source": [
    "print(M7)"
   ]
  },
  {
   "cell_type": "code",
   "execution_count": null,
   "id": "80461be9",
   "metadata": {},
   "outputs": [],
   "source": [
    "M6s = get_children(M7)\n",
    "print(len(M6s))\n",
    "for val in M6s:\n",
    "    print(val)"
   ]
  },
  {
   "cell_type": "code",
   "execution_count": null,
   "id": "033a8ebb",
   "metadata": {},
   "outputs": [],
   "source": [
    "M5s = get_grandchildren(M6s)\n",
    "print(len(M5s))\n",
    "for val in M5s:\n",
    "    print(val)"
   ]
  },
  {
   "cell_type": "code",
   "execution_count": null,
   "id": "06d5de63",
   "metadata": {},
   "outputs": [],
   "source": [
    "M4s = get_grandchildren(M5s)\n",
    "print(len(M4s))\n",
    "for val in M4s:\n",
    "    print(val)"
   ]
  },
  {
   "cell_type": "code",
   "execution_count": null,
   "id": "86851cdf",
   "metadata": {},
   "outputs": [],
   "source": [
    "M3s = get_grandchildren(M4s)\n",
    "print(len(M3s))\n",
    "for val in M3s:\n",
    "    print(val)"
   ]
  },
  {
   "cell_type": "code",
   "execution_count": null,
   "id": "851995d3",
   "metadata": {},
   "outputs": [],
   "source": [
    "M2s = get_grandchildren(M3s)\n",
    "print(len(M2s))\n",
    "for val in M2s:\n",
    "    print(val)"
   ]
  },
  {
   "cell_type": "code",
   "execution_count": null,
   "id": "9c737127",
   "metadata": {},
   "outputs": [],
   "source": [
    "M1s = get_grandchildren(M2s)\n",
    "print(len(M1s))\n",
    "for val in M1s:\n",
    "    print(val)"
   ]
  },
  {
   "cell_type": "code",
   "execution_count": null,
   "id": "6f1bed90",
   "metadata": {},
   "outputs": [],
   "source": [
    "chords = []\n",
    "\n",
    "for key, value in scales.items():\n",
    "    print(key)\n",
    "    print(\"==================\")\n",
    "    print(sum(value), 1)\n",
    "    print(Necklace(value))\n",
    "    print(\"------------\")\n",
    "    chords.append(Necklace(value))\n",
    "\n",
    "    children = get_children(Necklace(value))\n",
    "    while (n_pitches := sum(children[0])) > 1:\n",
    "        print(n_pitches, len(children))\n",
    "        for val in children:\n",
    "            if val not in chords:\n",
    "                chords.append(val)\n",
    "            print(val)\n",
    "        print(\"------------\")\n",
    "        children = get_grandchildren(children)\n",
    "\n",
    "print(len(chords))"
   ]
  },
  {
   "cell_type": "code",
   "execution_count": null,
   "id": "6ac1872a",
   "metadata": {},
   "outputs": [],
   "source": [
    "n_chords = defaultdict(list)"
   ]
  },
  {
   "cell_type": "code",
   "execution_count": null,
   "id": "4f7414cc",
   "metadata": {},
   "outputs": [],
   "source": [
    "for chord in chords:\n",
    "    n_chords[sum(chord)].append(chord)"
   ]
  },
  {
   "cell_type": "code",
   "execution_count": null,
   "id": "404fd750",
   "metadata": {},
   "outputs": [],
   "source": [
    "for i in range(2, 9):\n",
    "    print(i, len(n_chords[i]))\n",
    "    print(\"--------------\")\n",
    "    for c in n_chords[i]:\n",
    "        print(c)"
   ]
  },
  {
   "cell_type": "code",
   "execution_count": null,
   "id": "d1029d2d",
   "metadata": {},
   "outputs": [],
   "source": [
    "import networkx as nx"
   ]
  },
  {
   "cell_type": "code",
   "execution_count": null,
   "id": "d0441155",
   "metadata": {},
   "outputs": [],
   "source": [
    "G = nx.DiGraph()\n",
    "\n",
    "for key, value in scales.items():\n",
    "    root = Necklace(value)\n",
    "    children = get_children(Necklace(value))\n",
    "    G.add_node(root, subset=sum(root))\n",
    "\n",
    "    for c in children:\n",
    "        G.add_node(c, subset=sum(c))\n",
    "        G.add_edge(root, c)\n",
    "\n",
    "    while sum(children[0]) > 2:\n",
    "        for c in children:\n",
    "            gcs = get_children(c)\n",
    "            for gc in gcs:\n",
    "                G.add_node(gc, subset=sum(gc))\n",
    "                G.add_edge(c, gc)\n",
    "        children = get_grandchildren(children)"
   ]
  },
  {
   "cell_type": "code",
   "execution_count": null,
   "id": "ea4d3615",
   "metadata": {},
   "outputs": [],
   "source": [
    "nx.draw(G)"
   ]
  },
  {
   "cell_type": "code",
   "execution_count": null,
   "id": "beb6e1b9",
   "metadata": {},
   "outputs": [],
   "source": [
    "pos = nx.multipartite_layout(G, scale=1, align=\"horizontal\")\n",
    "nx.draw_networkx_nodes(G, pos, node_size=500)\n",
    "# node_labels = {node: f'{node_names[(node.a, node.b)]}{node.c}' for node in G.nodes}\n",
    "# nx.draw_networkx_labels(G, {key: (val[0], val[1]+0.5) for key, val in pos.items()}, node_labels, font_size=21)\n",
    "nx.draw_networkx_edges(\n",
    "    G,\n",
    "    pos,\n",
    "    width=2,\n",
    "    alpha=0.5,\n",
    ")\n",
    "plt.show()"
   ]
  },
  {
   "cell_type": "code",
   "execution_count": null,
   "id": "42285bfa",
   "metadata": {},
   "outputs": [],
   "source": [
    "nodes = [(m, sum(n), n) for n, m in G.out_degree(G.nodes)]\n",
    "nodes.sort(key=lambda x: G.out_degree(G.nodes)[x[2]])\n",
    "nodes"
   ]
  },
  {
   "cell_type": "code",
   "execution_count": null,
   "id": "ceff4cc6",
   "metadata": {},
   "outputs": [],
   "source": [
    "nodes = [(m, sum(n), n) for n, m in G.in_degree(G.nodes)]\n",
    "nodes.sort(key=lambda x: G.in_degree(G.nodes)[x[2]])\n",
    "nodes"
   ]
  },
  {
   "cell_type": "code",
   "execution_count": null,
   "id": "21f06387",
   "metadata": {},
   "outputs": [],
   "source": [
    "@dataclass\n",
    "class Chords:\n",
    "    chord: Necklace\n",
    "    n_voices: int\n",
    "    n_parents: int\n",
    "\n",
    "\n",
    "my_chords = []\n",
    "for node in G.nodes():\n",
    "    parents = [n for n in nx.algorithms.dag.ancestors(G, node) if G.in_degree(n) == 0]\n",
    "    my_chords.append(Chords(node, sum(node), len(parents)))"
   ]
  },
  {
   "cell_type": "code",
   "execution_count": null,
   "id": "ec3f4348",
   "metadata": {},
   "outputs": [],
   "source": [
    "sorted(my_chords, key=lambda x: (x.n_voices, x.n_parents))"
   ]
  },
  {
   "cell_type": "markdown",
   "id": "d7032d63",
   "metadata": {},
   "source": [
    "- 4-voice 5-parent chords"
   ]
  },
  {
   "cell_type": "code",
   "execution_count": null,
   "id": "8eaa1872",
   "metadata": {},
   "outputs": [],
   "source": []
  }
 ],
 "metadata": {
  "kernelspec": {
   "display_name": "Python 3 (ipykernel)",
   "language": "python",
   "name": "python3"
  },
  "language_info": {
   "codemirror_mode": {
    "name": "ipython",
    "version": 3
   },
   "file_extension": ".py",
   "mimetype": "text/x-python",
   "name": "python",
   "nbconvert_exporter": "python",
   "pygments_lexer": "ipython3",
   "version": "3.10.10"
  }
 },
 "nbformat": 4,
 "nbformat_minor": 5
}
