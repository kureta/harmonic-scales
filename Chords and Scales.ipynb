{
 "cells": [
  {
   "cell_type": "code",
   "execution_count": null,
   "id": "f16158b6",
   "metadata": {},
   "outputs": [],
   "source": [
    "from collections import Counter, defaultdict, deque\n",
    "from copy import copy\n",
    "from dataclasses import dataclass\n",
    "\n",
    "import matplotlib.pyplot as plt\n",
    "import networkx as nx\n",
    "import numpy as np\n",
    "\n",
    "plt.rcParams[\"figure.figsize\"] = [17, 17]"
   ]
  },
  {
   "cell_type": "code",
   "execution_count": null,
   "id": "2362a47f",
   "metadata": {},
   "outputs": [],
   "source": [
    "major = [1, 0, 1, 0, 1, 1, 0, 1, 0, 1, 0, 1]\n",
    "melodic_minor = [1, 0, 1, 1, 0, 1, 0, 1, 0, 1, 0, 1]\n",
    "harmonic_minor = [1, 0, 1, 1, 0, 1, 0, 1, 1, 0, 0, 1]\n",
    "harmonic_major = [1, 0, 1, 0, 1, 1, 0, 1, 1, 0, 0, 1]\n",
    "wholetone = [1, 0, 1, 0, 1, 0, 1, 0, 1, 0, 1, 0]  # has only 2 colors (transpositions)\n",
    "octatonic = [1, 0, 1, 1, 0, 1, 1, 0, 1, 1, 0, 1]  # 3 colors\n",
    "augmented = [1, 1, 0, 0, 1, 1, 0, 0, 1, 1, 0, 0]  # 4 colors\n",
    "\n",
    "scales = {\n",
    "    \"major\": major,\n",
    "    \"melodic_minor\": melodic_minor,\n",
    "    \"harmonic_major\": harmonic_major,\n",
    "    \"harmonic_minor\": harmonic_minor,\n",
    "    \"wholetone\": wholetone,\n",
    "    \"octatonic\": octatonic,\n",
    "    \"augmented\": augmented,\n",
    "}"
   ]
  },
  {
   "cell_type": "code",
   "execution_count": null,
   "id": "5d172350",
   "metadata": {},
   "outputs": [],
   "source": [
    "def contains(this, other):\n",
    "    return all([(a and b) or not a for a, b in zip(other, this)])"
   ]
  },
  {
   "cell_type": "code",
   "execution_count": null,
   "id": "00340bda",
   "metadata": {},
   "outputs": [],
   "source": [
    "class Necklace(deque):\n",
    "    def __eq__(self, other):\n",
    "        assert len(self) == len(other)\n",
    "        other = copy(other)\n",
    "        for idx in range(len(self)):\n",
    "            if deque.__eq__(self, other):\n",
    "                return True\n",
    "            other.rotate()\n",
    "        return False\n",
    "\n",
    "    def __ge__(self, other):\n",
    "        assert len(self) == len(other)\n",
    "        other = copy(other)\n",
    "        for idx in range(len(self)):\n",
    "            if contains(self, other):\n",
    "                return True\n",
    "            other.rotate()\n",
    "        return False\n",
    "\n",
    "    def __hash__(self):\n",
    "        cache = [self.copy() for _ in range(len(self))]\n",
    "        for n, val in enumerate(cache):\n",
    "            val.rotate(n)\n",
    "            cache[n] = tuple(val)\n",
    "\n",
    "        return hash(frozenset(Counter(tuple(cache)).items()))"
   ]
  },
  {
   "cell_type": "code",
   "execution_count": null,
   "id": "fc4edb3a-99ad-4efb-8e86-57c503a28ef5",
   "metadata": {},
   "outputs": [],
   "source": [
    "def harp_diff(pedal_a, pedal_b):\n",
    "    return sum([abs(a - b) for a, b in zip(pedal_a, pedal_b)])\n",
    "\n",
    "\n",
    "natural_indices = [0, 2, 4, 5, 7, 9, 11]\n",
    "\n",
    "\n",
    "def harp_add(pedal_a, pedal_b):\n",
    "    return [a + b for a, b in zip(pedal_a, pedal_b)]\n",
    "\n",
    "\n",
    "def harp_to_scale(pedal):\n",
    "    indices = [(p + ni) % 12 for p, ni in zip(pedal, natural_indices)]\n",
    "    scale = [0] * 12\n",
    "    for i in indices:\n",
    "        scale[i] = 1\n",
    "    return scale"
   ]
  },
  {
   "cell_type": "code",
   "execution_count": null,
   "id": "b4fa1046-5a8f-4c5e-87ea-6e6fd85867ae",
   "metadata": {
    "tags": []
   },
   "outputs": [],
   "source": [
    "harp_to_scale([0, -1, 0, 0, 0, 0, 0])"
   ]
  },
  {
   "cell_type": "code",
   "execution_count": null,
   "id": "d037cbb1-5cf4-4fec-8b60-1c807b0e6314",
   "metadata": {
    "tags": []
   },
   "outputs": [],
   "source": [
    "harp_diff([0, -1, 0, 0, 0, 0, 0], [0, 1, 0, 0, 0, 0, 1])"
   ]
  },
  {
   "cell_type": "code",
   "execution_count": null,
   "id": "6df7f258-4ce3-4a1d-8f56-c9f495cb57aa",
   "metadata": {
    "tags": []
   },
   "outputs": [],
   "source": [
    "from itertools import product"
   ]
  },
  {
   "cell_type": "code",
   "execution_count": null,
   "id": "b3804f8e-9692-436a-ada4-e2c9e4e6c959",
   "metadata": {
    "tags": []
   },
   "outputs": [],
   "source": [
    "all_pedal_positions = product(*[[-1, 0, 1]] * 7)"
   ]
  },
  {
   "cell_type": "code",
   "execution_count": null,
   "id": "f7b652d6-dcde-4035-a29c-91bcaa1eb278",
   "metadata": {
    "tags": []
   },
   "outputs": [],
   "source": [
    "scale_necklaces = [Necklace(s) for s in scales.values()]"
   ]
  },
  {
   "cell_type": "code",
   "execution_count": null,
   "id": "5bb67dd2-985d-479c-8437-b13ec09bd71c",
   "metadata": {
    "tags": []
   },
   "outputs": [],
   "source": [
    "valid_positions = [\n",
    "    pp\n",
    "    for pp in all_pedal_positions\n",
    "    if any([s >= Necklace(harp_to_scale(pp)) for s in scale_necklaces])\n",
    "]"
   ]
  },
  {
   "cell_type": "code",
   "execution_count": null,
   "id": "933b9bac-9fe9-4f3d-b485-f57aa7795256",
   "metadata": {
    "tags": []
   },
   "outputs": [],
   "source": [
    "harp_chords = defaultdict(list)"
   ]
  },
  {
   "cell_type": "code",
   "execution_count": null,
   "id": "6ea56cfc-a6a7-4432-9374-438baffae5ba",
   "metadata": {
    "tags": []
   },
   "outputs": [],
   "source": [
    "for vp in valid_positions:\n",
    "    harp_chords[sum(harp_to_scale(vp))].append(Necklace(harp_to_scale(vp)))"
   ]
  },
  {
   "cell_type": "code",
   "execution_count": null,
   "id": "6a968935-a6a3-42ca-9e88-acb29d3b3f8f",
   "metadata": {
    "tags": []
   },
   "outputs": [],
   "source": [
    "for k, v in harp_chords.items():\n",
    "    print(k, len(v))"
   ]
  },
  {
   "cell_type": "code",
   "execution_count": null,
   "id": "b442c1bd-93d7-46f7-9f83-ddaf4dc34be1",
   "metadata": {
    "tags": []
   },
   "outputs": [],
   "source": [
    "for k, v in harp_chords.items():\n",
    "    print(k, len(set(v)))"
   ]
  },
  {
   "cell_type": "code",
   "execution_count": null,
   "id": "306fb944",
   "metadata": {},
   "outputs": [],
   "source": [
    "def get_children(scale):\n",
    "    index = -1\n",
    "    children = []\n",
    "    for idx in range(sum(scale)):\n",
    "        index = scale.index(1, index + 1)\n",
    "        current = copy(scale)\n",
    "        current[index] = 0\n",
    "        if current not in children:\n",
    "            children.append(current)\n",
    "\n",
    "    return children"
   ]
  },
  {
   "cell_type": "code",
   "execution_count": null,
   "id": "828ec617",
   "metadata": {},
   "outputs": [],
   "source": [
    "def get_grandchildren(children):\n",
    "    grandchildren = []\n",
    "    for child in children:\n",
    "        for grandchild in get_children(child):\n",
    "            if grandchild not in grandchildren:\n",
    "                grandchildren.append(grandchild)\n",
    "    return grandchildren"
   ]
  },
  {
   "cell_type": "code",
   "execution_count": null,
   "id": "457c1733",
   "metadata": {},
   "outputs": [],
   "source": [
    "M7 = Necklace(augmented)"
   ]
  },
  {
   "cell_type": "code",
   "execution_count": null,
   "id": "ba84c4ab",
   "metadata": {},
   "outputs": [],
   "source": [
    "print(M7)"
   ]
  },
  {
   "cell_type": "code",
   "execution_count": null,
   "id": "80461be9",
   "metadata": {},
   "outputs": [],
   "source": [
    "M6s = get_children(M7)\n",
    "print(len(M6s))\n",
    "for val in M6s:\n",
    "    print(val)"
   ]
  },
  {
   "cell_type": "code",
   "execution_count": null,
   "id": "033a8ebb",
   "metadata": {},
   "outputs": [],
   "source": [
    "M5s = get_grandchildren(M6s)\n",
    "print(len(M5s))\n",
    "for val in M5s:\n",
    "    print(val)"
   ]
  },
  {
   "cell_type": "code",
   "execution_count": null,
   "id": "06d5de63",
   "metadata": {},
   "outputs": [],
   "source": [
    "M4s = get_grandchildren(M5s)\n",
    "print(len(M4s))\n",
    "for val in M4s:\n",
    "    print(val)"
   ]
  },
  {
   "cell_type": "code",
   "execution_count": null,
   "id": "86851cdf",
   "metadata": {},
   "outputs": [],
   "source": [
    "M3s = get_grandchildren(M4s)\n",
    "print(len(M3s))\n",
    "for val in M3s:\n",
    "    print(val)"
   ]
  },
  {
   "cell_type": "code",
   "execution_count": null,
   "id": "851995d3",
   "metadata": {},
   "outputs": [],
   "source": [
    "M2s = get_grandchildren(M3s)\n",
    "print(len(M2s))\n",
    "for val in M2s:\n",
    "    print(val)"
   ]
  },
  {
   "cell_type": "code",
   "execution_count": null,
   "id": "9c737127",
   "metadata": {},
   "outputs": [],
   "source": [
    "M1s = get_grandchildren(M2s)\n",
    "print(len(M1s))\n",
    "for val in M1s:\n",
    "    print(val)"
   ]
  },
  {
   "cell_type": "code",
   "execution_count": null,
   "id": "6f1bed90",
   "metadata": {
    "jupyter": {
     "outputs_hidden": true
    },
    "tags": []
   },
   "outputs": [],
   "source": [
    "chords = []\n",
    "\n",
    "for key, value in scales.items():\n",
    "    print(key)\n",
    "    print(\"==================\")\n",
    "    print(sum(value), 1)\n",
    "    print(Necklace(value))\n",
    "    print(\"------------\")\n",
    "    chords.append(Necklace(value))\n",
    "\n",
    "    children = get_children(Necklace(value))\n",
    "    while (n_pitches := sum(children[0])) > 1:\n",
    "        print(n_pitches, len(children))\n",
    "        for val in children:\n",
    "            if val not in chords:\n",
    "                chords.append(val)\n",
    "            print(val)\n",
    "        print(\"------------\")\n",
    "        children = get_grandchildren(children)\n",
    "\n",
    "print(len(chords))"
   ]
  },
  {
   "cell_type": "code",
   "execution_count": null,
   "id": "6ac1872a",
   "metadata": {},
   "outputs": [],
   "source": [
    "n_chords = defaultdict(list)"
   ]
  },
  {
   "cell_type": "code",
   "execution_count": null,
   "id": "4f7414cc",
   "metadata": {},
   "outputs": [],
   "source": [
    "for chord in chords:\n",
    "    n_chords[sum(chord)].append(chord)"
   ]
  },
  {
   "cell_type": "code",
   "execution_count": null,
   "id": "404fd750",
   "metadata": {
    "jupyter": {
     "outputs_hidden": true
    },
    "tags": []
   },
   "outputs": [],
   "source": [
    "for n_voices, chords in n_chords.items():\n",
    "    print(n_voices, len(chords))\n",
    "    print(\"--------------\")\n",
    "    for c in chords:\n",
    "        print(c)"
   ]
  },
  {
   "cell_type": "code",
   "execution_count": null,
   "id": "d0441155",
   "metadata": {},
   "outputs": [],
   "source": [
    "G = nx.DiGraph()\n",
    "\n",
    "for key, value in scales.items():\n",
    "    root = Necklace(value)\n",
    "    children = get_children(Necklace(value))\n",
    "    G.add_node(root, subset=sum(root))\n",
    "\n",
    "    for c in children:\n",
    "        G.add_node(c, subset=sum(c))\n",
    "        G.add_edge(root, c)\n",
    "\n",
    "    while sum(children[0]) > 2:\n",
    "        for c in children:\n",
    "            gcs = get_children(c)\n",
    "            for gc in gcs:\n",
    "                G.add_node(gc, subset=sum(gc))\n",
    "                G.add_edge(c, gc)\n",
    "        children = get_grandchildren(children)"
   ]
  },
  {
   "cell_type": "code",
   "execution_count": null,
   "id": "beb6e1b9",
   "metadata": {},
   "outputs": [],
   "source": [
    "plt.rcParams[\"figure.figsize\"] = [8, 8]\n",
    "pos = nx.multipartite_layout(G, scale=1, align=\"horizontal\")\n",
    "nx.draw_networkx_nodes(G, pos, node_size=50)\n",
    "# node_labels = {node: f'{node_names[(node.a, node.b)]}{node.c}' for node in G.nodes}\n",
    "# nx.draw_networkx_labels(G, {key: (val[0], val[1]+0.5) for key, val in pos.items()}, node_labels, font_size=21)\n",
    "nx.draw_networkx_edges(\n",
    "    G,\n",
    "    pos,\n",
    "    width=1,\n",
    "    alpha=0.5,\n",
    ")\n",
    "plt.show()"
   ]
  },
  {
   "cell_type": "code",
   "execution_count": null,
   "id": "42285bfa",
   "metadata": {
    "jupyter": {
     "outputs_hidden": true
    },
    "tags": []
   },
   "outputs": [],
   "source": [
    "nodes = [(m, sum(n), n) for n, m in G.out_degree(G.nodes)]\n",
    "nodes.sort(key=lambda x: G.out_degree(G.nodes)[x[2]])\n",
    "nodes"
   ]
  },
  {
   "cell_type": "code",
   "execution_count": null,
   "id": "ceff4cc6",
   "metadata": {
    "jupyter": {
     "outputs_hidden": true
    },
    "tags": []
   },
   "outputs": [],
   "source": [
    "nodes = [(m, sum(n), n) for n, m in G.in_degree(G.nodes)]\n",
    "nodes.sort(key=lambda x: G.in_degree(G.nodes)[x[2]])\n",
    "nodes"
   ]
  },
  {
   "cell_type": "code",
   "execution_count": null,
   "id": "0b7070d3",
   "metadata": {},
   "outputs": [],
   "source": [
    "def rotate(x, n):\n",
    "    return x[n:] + x[:n]"
   ]
  },
  {
   "cell_type": "code",
   "execution_count": null,
   "id": "8eaa1872",
   "metadata": {},
   "outputs": [],
   "source": [
    "realized_scales = []\n",
    "\n",
    "for scale in scales.values():\n",
    "    for i in range(len(scale)):\n",
    "        if (realization := rotate(scale, i)) not in realized_scales:\n",
    "            realized_scales.append(realization)\n",
    "print(len(realized_scales))"
   ]
  },
  {
   "cell_type": "code",
   "execution_count": null,
   "id": "21f06387",
   "metadata": {},
   "outputs": [],
   "source": [
    "@dataclass\n",
    "class Chord:\n",
    "    chord: Necklace\n",
    "    n_voices: int\n",
    "    n_parents: int\n",
    "    n_realizations: int\n",
    "\n",
    "\n",
    "my_chords = []\n",
    "for node in G.nodes():\n",
    "    parents = [n for n in nx.algorithms.dag.ancestors(G, node) if G.in_degree(n) == 0]\n",
    "    real_parents = [scale for scale in realized_scales if contains(scale, node)]\n",
    "    my_chords.append(Chord(node, sum(node), len(parents), len(real_parents)))"
   ]
  },
  {
   "cell_type": "code",
   "execution_count": null,
   "id": "ec3f4348",
   "metadata": {
    "tags": []
   },
   "outputs": [],
   "source": [
    "sorted(my_chords, key=lambda x: (x.n_voices, x.n_parents, x.n_realizations))\n",
    "# sorted(my_chords, key=lambda x: (x.n_realizations, x.n_voices))"
   ]
  },
  {
   "cell_type": "markdown",
   "id": "d7032d63",
   "metadata": {},
   "source": [
    "- 4-voice 5-parent chords\n",
    "\n",
    "There are 7 scale families and 57 scales"
   ]
  },
  {
   "cell_type": "code",
   "execution_count": null,
   "id": "56dd4f33",
   "metadata": {
    "tags": []
   },
   "outputs": [],
   "source": [
    "print(\"There are:\")\n",
    "print(f\"{len(scales)} scale families\")\n",
    "print(f\"{len(realized_scales)} scales\")\n",
    "for key, val in n_chords.items():\n",
    "    if key < 7:\n",
    "        print(f\"{len(val)} types of {key}-voice chords\")"
   ]
  },
  {
   "cell_type": "code",
   "execution_count": null,
   "id": "197549a3",
   "metadata": {},
   "outputs": [],
   "source": [
    "for val in scales.values():\n",
    "    if Necklace(val) >= Necklace([0, 0, 1, 1, 0, 0, 0, 0, 1, 1, 0, 0]):\n",
    "        print(val)"
   ]
  },
  {
   "cell_type": "code",
   "execution_count": null,
   "id": "3a109bc1-5af1-4615-86a0-66598fcbd941",
   "metadata": {
    "tags": []
   },
   "outputs": [],
   "source": [
    "def distance(x, y):\n",
    "    return sum(a != b for a, b in zip(x, y))"
   ]
  },
  {
   "cell_type": "code",
   "execution_count": null,
   "id": "0ae6e3db-3ab3-49ad-9479-15562046e845",
   "metadata": {
    "tags": []
   },
   "outputs": [],
   "source": [
    "# all scales that contain b and f, and does not contain c, e, and a\n",
    "# sorted by their distance to C major\n",
    "distances = sorted([(distance(major, rs), rs) for rs in realized_scales])\n",
    "[\n",
    "    d\n",
    "    for d in distances\n",
    "    if d[1][0] == 0 and d[1][-1] == 1 and d[1][5] == 1 and d[1][4] == 0 and d[1][9] == 0\n",
    "]"
   ]
  },
  {
   "cell_type": "code",
   "execution_count": null,
   "id": "6d762bb6-1d6f-44ba-bfe3-29080bc10acb",
   "metadata": {
    "tags": []
   },
   "outputs": [],
   "source": [
    "# all scales that contain b and f, and does not contain c, eb, and ab\n",
    "# sorted by their distance to A minor\n",
    "distances = sorted([(distance(major, rs), rs) for rs in realized_scales])\n",
    "[\n",
    "    d\n",
    "    for d in distances\n",
    "    if d[1][0] == 0 and d[1][-1] == 1 and d[1][5] == 1 and d[1][3] == 0 and d[1][8] == 0\n",
    "]"
   ]
  },
  {
   "cell_type": "code",
   "execution_count": null,
   "id": "a650a4b0-ae27-417f-be91-1d04cb0f8fc1",
   "metadata": {
    "tags": []
   },
   "outputs": [],
   "source": [
    "# n-voice chords that are in an certain scale\n",
    "# sorted by the number of realized scales they appear in\n",
    "melodic_minor_chords = [c for c in n_chords[5] if not (Necklace(major) >= c)]\n",
    "parent_chords = sorted(\n",
    "    [(len([rc for rc in realized_scales if contains(rc, mc)]), mc) for mc in melodic_minor_chords]\n",
    ")\n",
    "parent_chords"
   ]
  },
  {
   "cell_type": "code",
   "execution_count": null,
   "id": "181b469b-24cb-49ad-884c-4bb0d6475722",
   "metadata": {
    "tags": []
   },
   "outputs": [],
   "source": [
    "Necklace(melodic_minor) >= Necklace([0, 0, 1, 1, 0, 0, 0, 0, 1, 1, 0, 0])"
   ]
  },
  {
   "cell_type": "code",
   "execution_count": null,
   "id": "aafbd9d8-ceb2-4686-a765-6840e07ae67f",
   "metadata": {},
   "outputs": [],
   "source": []
  }
 ],
 "metadata": {
  "kernelspec": {
   "display_name": "Python 3 (ipykernel)",
   "language": "python",
   "name": "python3"
  },
  "language_info": {
   "codemirror_mode": {
    "name": "ipython",
    "version": 3
   },
   "file_extension": ".py",
   "mimetype": "text/x-python",
   "name": "python",
   "nbconvert_exporter": "python",
   "pygments_lexer": "ipython3",
   "version": "3.10.10"
  }
 },
 "nbformat": 4,
 "nbformat_minor": 5
}
