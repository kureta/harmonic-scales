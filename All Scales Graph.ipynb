{
 "cells": [
  {
   "cell_type": "code",
   "execution_count": null,
   "id": "regular-isolation",
   "metadata": {},
   "outputs": [],
   "source": [
    "import matplotlib.pyplot as plt\n",
    "import networkx as nx\n",
    "import numpy as np\n",
    "\n",
    "plt.rcParams[\"figure.figsize\"] = [17, 17]"
   ]
  },
  {
   "cell_type": "code",
   "execution_count": null,
   "id": "agreed-series",
   "metadata": {},
   "outputs": [],
   "source": [
    "families = {\n",
    "    \"major\": set([0, 2, 4, 5, 7, 9, 11]),\n",
    "    \"melodic_minor\": set([0, 2, 3, 5, 7, 9, 11]),\n",
    "    \"harmonic_major\": set([0, 2, 4, 5, 7, 8, 11]),\n",
    "    \"harmonic_minor\": set([0, 2, 3, 5, 7, 8, 11]),\n",
    "    \"wholetone\": set([0, 2, 4, 6, 8, 10]),  # 0, 1\n",
    "    \"octatonic\": set([0, 2, 3, 5, 6, 8, 9, 11]),  # 0, 1, 2\n",
    "    \"augmented\": set([0, 3, 4, 7, 8, 11]),  # 0, 1, 2, 3\n",
    "}\n",
    "\n",
    "\n",
    "def transpose(pitches, step):\n",
    "    return set((p + step) % 12 for p in pitches)\n",
    "\n",
    "\n",
    "class Scale:\n",
    "    def __init__(self, family, base_pitch):\n",
    "        self.family = family\n",
    "        self.base_pitch = base_pitch\n",
    "        self.pitches = transpose(families[family], base_pitch)\n",
    "\n",
    "    def __repr__(self):\n",
    "        return f\"{self.base_pitch} {self.family}\"\n",
    "\n",
    "    def is_neighbors_with(self, other):\n",
    "        intersection = len(self.pitches & other.pitches)\n",
    "        return intersection == len(self.pitches) - 1 or intersection == len(other.pitches) - 1\n",
    "\n",
    "\n",
    "def get_all_scales():\n",
    "    all_scales = []\n",
    "    for base_pitch in range(12):\n",
    "        for family in [\"major\", \"melodic_minor\", \"harmonic_major\", \"harmonic_minor\"]:\n",
    "            all_scales.append(Scale(family, base_pitch))\n",
    "\n",
    "    for base_pitch in range(2):\n",
    "        all_scales.append(Scale(\"wholetone\", base_pitch))\n",
    "\n",
    "    for base_pitch in range(3):\n",
    "        all_scales.append(Scale(\"octatonic\", base_pitch))\n",
    "\n",
    "    for base_pitch in range(4):\n",
    "        all_scales.append(Scale(\"augmented\", base_pitch))\n",
    "\n",
    "    return all_scales"
   ]
  },
  {
   "cell_type": "code",
   "execution_count": null,
   "id": "becoming-combination",
   "metadata": {},
   "outputs": [],
   "source": [
    "asd = Scale(\"melodic_minor\", 0)\n",
    "qwe = Scale(\"wholetone\", 5)"
   ]
  },
  {
   "cell_type": "code",
   "execution_count": null,
   "id": "frequent-provider",
   "metadata": {},
   "outputs": [],
   "source": [
    "asd.is_neighbors_with(qwe)"
   ]
  },
  {
   "cell_type": "code",
   "execution_count": null,
   "id": "exact-bullet",
   "metadata": {},
   "outputs": [],
   "source": [
    "all_scales = get_all_scales()"
   ]
  },
  {
   "cell_type": "code",
   "execution_count": null,
   "id": "cleared-passion",
   "metadata": {},
   "outputs": [],
   "source": [
    "len(all_scales)"
   ]
  },
  {
   "cell_type": "code",
   "execution_count": null,
   "id": "demonstrated-coverage",
   "metadata": {},
   "outputs": [],
   "source": []
  }
 ],
 "metadata": {
  "kernelspec": {
   "display_name": "Python 3 (ipykernel)",
   "language": "python",
   "name": "python3"
  },
  "language_info": {
   "codemirror_mode": {
    "name": "ipython",
    "version": 3
   },
   "file_extension": ".py",
   "mimetype": "text/x-python",
   "name": "python",
   "nbconvert_exporter": "python",
   "pygments_lexer": "ipython3",
   "version": "3.10.10"
  }
 },
 "nbformat": 4,
 "nbformat_minor": 5
}
