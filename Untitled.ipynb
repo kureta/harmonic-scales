{
 "cells": [
  {
   "cell_type": "code",
   "execution_count": null,
   "id": "clear-fitness",
   "metadata": {},
   "outputs": [],
   "source": [
    "import matplotlib.pyplot as plt\n",
    "import networkx as nx\n",
    "import numpy as np\n",
    "\n",
    "plt.rcParams[\"figure.figsize\"] = [17, 17]"
   ]
  },
  {
   "cell_type": "code",
   "execution_count": null,
   "id": "occupational-thomas",
   "metadata": {},
   "outputs": [],
   "source": [
    "def I_edges(n):\n",
    "    edges = []\n",
    "    colors = []\n",
    "    edges.append((f\"I{n}\", f\"m{n}\"))\n",
    "    colors.append((3 - n) % 7)\n",
    "    edges.append((f\"I{n}\", f\"H{n}\"))\n",
    "    colors.append((6 - n) % 7)\n",
    "    edges.append((f\"I{n}\", f\"I{(n+4) % 7}\"))\n",
    "    colors.append((7 - n) % 7)\n",
    "\n",
    "    edges.append((f\"I{(n-4) % 7}\", f\"I{n}\"))\n",
    "    colors.append((6 - n - 2) % 7)\n",
    "    edges.append((f\"h{(n+2) % 7}\", f\"I{n}\"))\n",
    "    colors.append((7 - n - 2) % 7)\n",
    "    edges.append((f\"m{(n-1) % 7}\", f\"I{n}\"))\n",
    "    colors.append((3 - n - 2) % 7)\n",
    "\n",
    "    return edges, colors"
   ]
  },
  {
   "cell_type": "code",
   "execution_count": null,
   "id": "fresh-bottom",
   "metadata": {},
   "outputs": [],
   "source": [
    "def m_edges(n):\n",
    "    edges = []\n",
    "    colors = []\n",
    "    edges.append((f\"m{n}\", f\"h{n}\"))\n",
    "    colors.append((6 - n) % 7)\n",
    "    edges.append((f\"m{n}\", f\"I{(n+1) % 7}\"))\n",
    "    colors.append((7 - n) % 7)\n",
    "\n",
    "    edges.append((f\"H{(n-4) % 7}\", f\"m{n}\"))\n",
    "    colors.append((7 - n + 4) % 7)\n",
    "    edges.append((f\"I{n}\", f\"m{n}\"))\n",
    "    colors.append((3 - n) % 7)\n",
    "\n",
    "    return edges, colors"
   ]
  },
  {
   "cell_type": "code",
   "execution_count": null,
   "id": "cosmetic-tyler",
   "metadata": {},
   "outputs": [],
   "source": [
    "def H_edges(n):\n",
    "    edges = []\n",
    "    edges.append((f\"H{n}\", f\"m{(n+4) % 7}\"))\n",
    "    colors.append((7 - n) % 7)\n",
    "    edges.append((f\"H{n}\", f\"h{n}\"))\n",
    "    colors.append((3 - n) % 7)\n",
    "\n",
    "    edges.append((f\"I{n}\", f\"H{n}\"))\n",
    "    colors.append((6 - n) % 7)\n",
    "\n",
    "    return edges, colors"
   ]
  },
  {
   "cell_type": "code",
   "execution_count": null,
   "id": "requested-steering",
   "metadata": {},
   "outputs": [],
   "source": [
    "def h_edges(n):\n",
    "    edges = []\n",
    "    edges.append((f\"h{n}\", f\"I{(n+5) % 7}\"))\n",
    "    colors.append((7 - n) % 7)\n",
    "\n",
    "    edges.append((f\"m{n}\", f\"h{n}\"))\n",
    "    colors.append((6 - n) % 7)\n",
    "    edges.append((f\"H{n}\", f\"h{n}\"))\n",
    "    colors.append((3 - n) % 7)\n",
    "\n",
    "    return edges, colors"
   ]
  },
  {
   "cell_type": "code",
   "execution_count": null,
   "id": "durable-southeast",
   "metadata": {},
   "outputs": [],
   "source": [
    "G = nx.Graph()\n",
    "edges = []\n",
    "colors = []\n",
    "for fn in [I_edges, m_edges, H_edges, h_edges]:\n",
    "    for n in range(7):\n",
    "        current = fn(n)\n",
    "        for e, c in zip(*current):\n",
    "            if e not in edges:\n",
    "                G.add_edge(*e, edge_label=c)"
   ]
  },
  {
   "cell_type": "code",
   "execution_count": null,
   "id": "governing-texas",
   "metadata": {},
   "outputs": [],
   "source": [
    "pos = nx.spring_layout(G)\n",
    "generator_colors = [\"r\", \"g\", \"b\", \"c\", \"m\", \"y\", \"k\"]\n",
    "edge_colors = [generator_colors[data[2][\"edge_label\"]] for data in G.edges.data()]\n",
    "nx.draw_networkx_nodes(\n",
    "    G,\n",
    "    pos,\n",
    "    node_color=\"r\",\n",
    "    node_size=500,\n",
    ")\n",
    "nx.draw_networkx_labels(\n",
    "    G, {key: (val[0], val[1] + 0.04) for key, val in pos.items()}, font_size=21\n",
    ")\n",
    "nx.draw_networkx_edges(\n",
    "    G,\n",
    "    pos,\n",
    "    width=5,\n",
    "    arrowsize=20,\n",
    "    alpha=0.5,\n",
    "    edge_color=edge_colors,\n",
    ")\n",
    "plt.show()"
   ]
  },
  {
   "cell_type": "code",
   "execution_count": null,
   "id": "pleased-custom",
   "metadata": {},
   "outputs": [],
   "source": [
    "pred, dist = nx.dijkstra_predecessor_and_distance(G, (\"I0\"))"
   ]
  },
  {
   "cell_type": "code",
   "execution_count": null,
   "id": "utility-liverpool",
   "metadata": {},
   "outputs": [],
   "source": [
    "dist"
   ]
  },
  {
   "cell_type": "code",
   "execution_count": null,
   "id": "relative-absorption",
   "metadata": {},
   "outputs": [],
   "source": []
  }
 ],
 "metadata": {
  "kernelspec": {
   "display_name": "Python 3 (ipykernel)",
   "language": "python",
   "name": "python3"
  },
  "language_info": {
   "codemirror_mode": {
    "name": "ipython",
    "version": 3
   },
   "file_extension": ".py",
   "mimetype": "text/x-python",
   "name": "python",
   "nbconvert_exporter": "python",
   "pygments_lexer": "ipython3",
   "version": "3.10.10"
  }
 },
 "nbformat": 4,
 "nbformat_minor": 5
}
