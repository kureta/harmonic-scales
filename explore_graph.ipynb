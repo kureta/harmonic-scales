{
 "cells": [
  {
   "cell_type": "code",
   "execution_count": null,
   "id": "eleven-geneva",
   "metadata": {},
   "outputs": [],
   "source": [
    "import matplotlib.pyplot as plt\n",
    "import networkx as nx\n",
    "import numpy as np\n",
    "from networkx.drawing.nx_pydot import graphviz_layout\n",
    "\n",
    "plt.rcParams[\"figure.figsize\"] = [17, 17]"
   ]
  },
  {
   "cell_type": "code",
   "execution_count": null,
   "id": "commercial-bible",
   "metadata": {},
   "outputs": [],
   "source": [
    "from harmony import ChromaticNecklace"
   ]
  },
  {
   "cell_type": "code",
   "execution_count": null,
   "id": "alpine-light",
   "metadata": {},
   "outputs": [],
   "source": [
    "G = nx.DiGraph()"
   ]
  },
  {
   "cell_type": "code",
   "execution_count": null,
   "id": "geological-decline",
   "metadata": {},
   "outputs": [],
   "source": [
    "init = ChromaticNecklace(\"major\", 0)"
   ]
  },
  {
   "cell_type": "code",
   "execution_count": null,
   "id": "through-target",
   "metadata": {},
   "outputs": [],
   "source": [
    "edges, togo = [], [init]"
   ]
  },
  {
   "cell_type": "code",
   "execution_count": null,
   "id": "surrounded-aberdeen",
   "metadata": {},
   "outputs": [],
   "source": [
    "while togo:\n",
    "    current = togo.pop()\n",
    "    for idx in range(12):\n",
    "        if current.is_movable(idx):\n",
    "            adjacent = current.move(idx)\n",
    "            edge = ((current.name, current.color), (adjacent.name, adjacent.color))\n",
    "            if edge not in G.edges:\n",
    "                G.add_edge(*edge, edge_label=idx)\n",
    "                togo.append(adjacent)"
   ]
  },
  {
   "cell_type": "code",
   "execution_count": null,
   "id": "protecting-wayne",
   "metadata": {},
   "outputs": [],
   "source": [
    "indices = [(x * 7) % 12 for x in range(12)]\n",
    "\n",
    "\n",
    "def get_theta(x, offset=0):\n",
    "    return (x * 7 + offset) % 12"
   ]
  },
  {
   "cell_type": "code",
   "execution_count": null,
   "id": "aging-patrick",
   "metadata": {},
   "outputs": [],
   "source": [
    "phi = (np.sqrt(5) + 1) / 2"
   ]
  },
  {
   "cell_type": "code",
   "execution_count": null,
   "id": "going-default",
   "metadata": {},
   "outputs": [],
   "source": [
    "# Check different orderings\n",
    "scales = [\"harmonic_major\", \"harmonic_minor\", \"major\", \"melodic_minor\"]\n",
    "offsets = [-1, -2, 0, -1]\n",
    "order = [2, 3, 4, 5]\n",
    "\n",
    "\n",
    "def layout(graph):\n",
    "    nodes = [n for n in graph.nodes if n[0] in scales]\n",
    "    theta = [(3 - get_theta(n[1], offsets[scales.index(n[0])])) * (np.pi / 6) for n in nodes]\n",
    "    rad = [order[scales.index(n[0])] for n in nodes]\n",
    "    rad = [r * 2 + 5 for r in rad]\n",
    "    return {n: (r * np.cos(t), r * np.sin(t)) for n, r, t in zip(nodes, rad, theta)}"
   ]
  },
  {
   "cell_type": "code",
   "execution_count": null,
   "id": "analyzed-marina",
   "metadata": {},
   "outputs": [],
   "source": [
    "improper = [\"wholetone\", \"octatonic\", \"augmented\"]\n",
    "imp_offsets = [0, -1.5, -1.5]\n",
    "imp_order = [6, 1, 0]\n",
    "division = [6, 4, 3]\n",
    "\n",
    "\n",
    "def improper_layout(graph):\n",
    "    nodes = [n for n in graph.nodes if n[0] in improper]\n",
    "    theta = [\n",
    "        (3 - get_theta(division[improper.index(n[0])] * n[1], imp_offsets[improper.index(n[0])]))\n",
    "        * (np.pi / 6)\n",
    "        for n in nodes\n",
    "    ]\n",
    "    rad = [imp_order[improper.index(n[0])] for n in nodes]\n",
    "    rad = [r * 2 + 5 for r in rad]\n",
    "    return {n: (r * np.cos(t), r * np.sin(t)) for n, r, t in zip(nodes, rad, theta)}"
   ]
  },
  {
   "cell_type": "code",
   "execution_count": null,
   "id": "upper-freeware",
   "metadata": {},
   "outputs": [],
   "source": [
    "def to_label(node):\n",
    "    mapping = {\n",
    "        \"major\": \"M\",\n",
    "        \"melodic_minor\": \"mm\",\n",
    "        \"harmonic_minor\": \"hm\",\n",
    "        \"harmonic_major\": \"HM\",\n",
    "        \"augmented\": \"a\",\n",
    "        \"octatonic\": \"o\",\n",
    "        \"wholetone\": \"wt\",\n",
    "    }\n",
    "    return f\"{mapping[node[0]]}{node[1]}\""
   ]
  },
  {
   "cell_type": "markdown",
   "id": "ready-branch",
   "metadata": {},
   "source": [
    "# TODO: Write all edge related dat into the edges themselves"
   ]
  },
  {
   "cell_type": "code",
   "execution_count": null,
   "id": "featured-thursday",
   "metadata": {},
   "outputs": [],
   "source": [
    "colors = {}\n",
    "for x in G.edges.data():\n",
    "    colors[x[:2]] = f\"{x[2]['edge_label']}-{(x[2]['edge_label']+1) % 12}\""
   ]
  },
  {
   "cell_type": "code",
   "execution_count": null,
   "id": "major-james",
   "metadata": {},
   "outputs": [],
   "source": [
    "majors = [n for n in G.nodes if n[0] == \"major\"]\n",
    "melodic_minors = [n for n in G.nodes if n[0] == \"melodic_minor\"]\n",
    "harmonic_majors = [n for n in G.nodes if n[0] == \"harmonic_major\"]\n",
    "harmonic_minors = [n for n in G.nodes if n[0] == \"harmonic_minor\"]\n",
    "augmenteds = [n for n in G.nodes if n[0] == \"augmented\"]\n",
    "octatonics = [n for n in G.nodes if n[0] == \"octatonic\"]\n",
    "wholetones = [n for n in G.nodes if n[0] == \"wholetone\"]\n",
    "\n",
    "labels = {node: to_label(node) for node in G.nodes}\n",
    "pos = layout(G)\n",
    "pos2 = improper_layout(G)\n",
    "pos = {**pos, **pos2}\n",
    "\n",
    "color_map = {\n",
    "    (\"major\", \"major\"): \"r\",\n",
    "    (\"major\", \"melodic_minor\"): \"g\",\n",
    "    (\"melodic_minor\", \"major\"): \"g\",\n",
    "    (\"melodic_minor\", \"harmonic_major\"): \"b\",\n",
    "    (\"harmonic_major\", \"major\"): \"b\",\n",
    "    (\"major\", \"harmonic_minor\"): \"b\",\n",
    "    (\"harmonic_minor\", \"melodic_minor\"): \"b\",\n",
    "    (\"harmonic_minor\", \"harmonic_major\"): \"m\",\n",
    "    (\"melodic_minor\", \"wholetone\"): \"white\",\n",
    "    (\"melodic_minor\", \"octatonic\"): \"white\",\n",
    "    (\"harmonic_major\", \"octatonic\"): \"white\",\n",
    "    (\"harmonic_major\", \"augmented\"): \"white\",\n",
    "    (\"octatonic\", \"melodic_minor\"): \"white\",\n",
    "    (\"octatonic\", \"harmonic_minor\"): \"white\",\n",
    "    (\"wholetone\", \"melodic_minor\"): \"white\",\n",
    "    (\"augmented\", \"harmonic_minor\"): \"white\",\n",
    "}\n",
    "\n",
    "edge_colors = [color_map[(a[0], b[0])] for a, b in G.edges]\n",
    "# edge_colors = ['b' if a[1] != b[1] else 'r' for a, b in G.edges]\n",
    "\n",
    "nx.draw_networkx_nodes(G, pos, nodelist=majors, node_color=\"r\", node_size=500)\n",
    "nx.draw_networkx_nodes(G, pos, nodelist=melodic_minors, node_color=\"g\", node_size=500)\n",
    "nx.draw_networkx_nodes(G, pos, nodelist=harmonic_majors, node_color=\"b\", node_size=500)\n",
    "nx.draw_networkx_nodes(G, pos, nodelist=harmonic_minors, node_color=\"y\", node_size=500)\n",
    "nx.draw_networkx_nodes(G, pos, nodelist=augmenteds, node_color=\"cyan\", node_size=500)\n",
    "nx.draw_networkx_nodes(G, pos, nodelist=octatonics, node_color=\"magenta\", node_size=500)\n",
    "nx.draw_networkx_nodes(G, pos, nodelist=wholetones, node_color=\"black\", node_size=500)\n",
    "nx.draw_networkx_labels(\n",
    "    G, {key: (val[0], val[1] + 0.5) for key, val in pos.items()}, labels, font_size=21\n",
    ")\n",
    "# edge_list = [(a, b) for a, b in G.edges if a[1] != b[1]]\n",
    "edge_list = [(a, b) for a, b in G.edges if a[0] in scales and b[0] in scales]\n",
    "edge_colors = [c for (a, b), c in zip(G.edges, edge_colors) if a[0] in scales and b[0] in scales]\n",
    "nx.draw_networkx_edges(\n",
    "    G,\n",
    "    pos,\n",
    "    width=5,\n",
    "    edgelist=edge_list,\n",
    "    arrowsize=20,\n",
    "    alpha=0.3,\n",
    "    edge_color=edge_colors,\n",
    ")\n",
    "nx.draw_networkx_edge_labels(\n",
    "    G,\n",
    "    pos,\n",
    "    edge_labels=colors,\n",
    "    label_pos=0.66,\n",
    "    verticalalignment=\"bottom\",\n",
    "    bbox={\"alpha\": 0.0},\n",
    "    font_size=11,\n",
    ")\n",
    "\n",
    "plt.show()"
   ]
  },
  {
   "cell_type": "code",
   "execution_count": null,
   "id": "spoken-transsexual",
   "metadata": {},
   "outputs": [],
   "source": [
    "H = nx.DiGraph()\n",
    "for edge in G.edges:\n",
    "    edgex = (edge[0][0], edge[1][0])\n",
    "    if edgex not in H.edges:\n",
    "        H.add_edge(\n",
    "            *edgex,\n",
    "            edge_color=\"b\"\n",
    "            if edge[0][1] != edge[1][1] or edge[0][0] in improper or edge[1][0] in improper\n",
    "            else \"r\",\n",
    "        )"
   ]
  },
  {
   "cell_type": "code",
   "execution_count": null,
   "id": "broke-ribbon",
   "metadata": {},
   "outputs": [],
   "source": [
    "ec = [e[2][\"edge_color\"] for e in H.edges.data()]"
   ]
  },
  {
   "cell_type": "code",
   "execution_count": null,
   "id": "beneficial-simon",
   "metadata": {},
   "outputs": [],
   "source": [
    "pos = nx.planar_layout(H)\n",
    "\n",
    "nx.draw_networkx_nodes(H, pos, node_color=\"black\", node_size=500)\n",
    "nx.draw_networkx_labels(\n",
    "    H,\n",
    "    {key: (val[0], val[1] + 0.02) for key, val in pos.items()},\n",
    "    {n: n for n in H.nodes},\n",
    "    font_size=21,\n",
    ")\n",
    "\n",
    "nx.draw_networkx_edges(\n",
    "    H, pos, width=5, arrowsize=30, alpha=0.3, edge_color=ec, connectionstyle=\"arc3,rad=-0.21\"\n",
    ")\n",
    "plt.show()"
   ]
  },
  {
   "cell_type": "code",
   "execution_count": null,
   "id": "average-pacific",
   "metadata": {},
   "outputs": [],
   "source": [
    "cycles = [len(c) for c in nx.simple_cycles(H)]"
   ]
  },
  {
   "cell_type": "code",
   "execution_count": null,
   "id": "persistent-brave",
   "metadata": {},
   "outputs": [],
   "source": [
    "len(cycles)"
   ]
  },
  {
   "cell_type": "code",
   "execution_count": null,
   "id": "stupid-polymer",
   "metadata": {},
   "outputs": [],
   "source": [
    "pos = nx.planar_layout(H)\n",
    "labels = {n: n for n in H.nodes}\n",
    "for c in nx.simple_cycles(H):\n",
    "    print(c)\n",
    "    nx.draw_networkx_nodes(H, pos, node_color=\"r\", node_size=500)\n",
    "    nx.draw_networkx_labels(\n",
    "        H, {key: (val[0], val[1] + 0.04) for key, val in pos.items()}, labels, font_size=21\n",
    "    )\n",
    "    # edge_list = [(a, b) for a, b in G.edges if a[1] != b[1]]\n",
    "    nx.draw_networkx_edges(\n",
    "        H,\n",
    "        pos,\n",
    "        width=5,\n",
    "        edgelist=list(zip(c, c[1:] + c[:1])),\n",
    "        arrowsize=20,\n",
    "        alpha=0.3,\n",
    "        edge_color=\"b\",\n",
    "    )\n",
    "    # nx.draw_networkx_edge_labels(G, pos, edge_labels=colors)\n",
    "\n",
    "    plt.show()"
   ]
  },
  {
   "cell_type": "code",
   "execution_count": null,
   "id": "japanese-hypothesis",
   "metadata": {},
   "outputs": [],
   "source": [
    "pred, dist = nx.dijkstra_predecessor_and_distance(G, (\"major\", 0))"
   ]
  },
  {
   "cell_type": "code",
   "execution_count": null,
   "id": "removable-technical",
   "metadata": {},
   "outputs": [],
   "source": [
    "dist"
   ]
  },
  {
   "cell_type": "code",
   "execution_count": null,
   "id": "blind-tuition",
   "metadata": {},
   "outputs": [],
   "source": [
    "paths = nx.shortest_paths.all_shortest_paths(G, (\"melodic_minor\", 2), (\"melodic_minor\", 8))"
   ]
  },
  {
   "cell_type": "code",
   "execution_count": null,
   "id": "split-creek",
   "metadata": {},
   "outputs": [],
   "source": [
    "for p in paths:\n",
    "    print(\"=====================\")\n",
    "    print(len(p))\n",
    "    print(p)"
   ]
  },
  {
   "cell_type": "markdown",
   "id": "decent-strip",
   "metadata": {},
   "source": [
    "Better definition of operations\n",
    "- Group I:\n",
    "    - elements: `[M] x 12`\n",
    "    - operations: `[a]`\n",
    "        - ` a = M#IV (+7)`\n",
    "        - `-a = Mb7 (-7)`\n",
    "- Group II:\n",
    "    - elements: `[M, m] x6`\n",
    "    - operations: `[b]`\n",
    "        - ` b = [M#I (+2), m#III (0)]`\n",
    "        - `-b = [MbIII (0), mbVII (-2)]`\n",
    "- Group III:\n",
    "    - elements: `[M, h, H] x4`\n",
    "    - operations: `[c]`\n",
    "        - ` c = [M#V (+9), h#III (0), H#VI (0)]`\n",
    "        - `-c = [MbVI (0), hbVII (-9), HbIII (0)]`\n",
    "- Group IV:\n",
    "    - elements: `[m, H, M, h] x6`\n",
    "    - operations `[d]`\n",
    "        - ` d = [m#IV (+7), H#VI (0), M#V (+9), h#VI (0)]`\n",
    "        - `-d = [mbVI(0), HbVII(-7), MbVI (0), hbVII (-9)]`"
   ]
  },
  {
   "cell_type": "code",
   "execution_count": null,
   "id": "45c58d3b",
   "metadata": {},
   "outputs": [],
   "source": [
    "from enum import Enum"
   ]
  },
  {
   "cell_type": "code",
   "execution_count": null,
   "id": "51978a08",
   "metadata": {},
   "outputs": [],
   "source": [
    "class Family:\n",
    "    MAJOR = 1\n",
    "    MELODIC_MINOR = 2\n",
    "    HARMONIC_MAJOR = 3\n",
    "    HARMONIC_MINOR = 4"
   ]
  },
  {
   "cell_type": "code",
   "execution_count": null,
   "id": "edef34e1",
   "metadata": {},
   "outputs": [],
   "source": [
    "G = nx.DiGraph()"
   ]
  },
  {
   "cell_type": "code",
   "execution_count": null,
   "id": "b167b9e5",
   "metadata": {},
   "outputs": [],
   "source": [
    "for i in range(12):\n",
    "    G.add_edge((Family.MAJOR, i), (Family.MAJOR, (i + 1) % 12))"
   ]
  },
  {
   "cell_type": "code",
   "execution_count": null,
   "id": "5c1cbca3",
   "metadata": {},
   "outputs": [],
   "source": [
    "for i in range(2):\n",
    "    for j in range(6):\n",
    "        G.add_edge((Family.MAJOR, i + j), (Family.MELODIC_MINOR, (i + j + 2) % 12))\n",
    "        G.add_edge((Family.MELODIC_MINOR, (i + j + 2) % 12), (Family.MAJOR, (i + j + 2) % 12))"
   ]
  },
  {
   "cell_type": "code",
   "execution_count": null,
   "id": "e55349a6",
   "metadata": {},
   "outputs": [],
   "source": [
    "nx.draw_networkx(G)"
   ]
  },
  {
   "cell_type": "code",
   "execution_count": null,
   "id": "51ae25c7",
   "metadata": {},
   "outputs": [],
   "source": []
  }
 ],
 "metadata": {
  "kernelspec": {
   "display_name": "Python 3 (ipykernel)",
   "language": "python",
   "name": "python3"
  },
  "language_info": {
   "codemirror_mode": {
    "name": "ipython",
    "version": 3
   },
   "file_extension": ".py",
   "mimetype": "text/x-python",
   "name": "python",
   "nbconvert_exporter": "python",
   "pygments_lexer": "ipython3",
   "version": "3.10.10"
  }
 },
 "nbformat": 4,
 "nbformat_minor": 5
}
