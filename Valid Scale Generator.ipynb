{
 "cells": [
  {
   "cell_type": "code",
   "execution_count": null,
   "id": "departmental-interference",
   "metadata": {},
   "outputs": [],
   "source": [
    "from functools import partial, reduce\n",
    "from itertools import accumulate, combinations, permutations, product\n",
    "from operator import gt, or_\n",
    "\n",
    "import numpy as np"
   ]
  },
  {
   "cell_type": "code",
   "execution_count": null,
   "id": "f0d46e61",
   "metadata": {},
   "outputs": [],
   "source": [
    "def overtone_to_semitones(n):\n",
    "    overtones = np.arange(n) + 1\n",
    "    steps = (12 * np.log2(overtones)) % 12\n",
    "    return steps"
   ]
  },
  {
   "cell_type": "code",
   "execution_count": null,
   "id": "157bf7cd",
   "metadata": {},
   "outputs": [],
   "source": [
    "def distance_to_nearest_integer(ts):\n",
    "    nint = np.round(ts)\n",
    "    return np.minimum(abs(ts - nint), abs(nint - ts))"
   ]
  },
  {
   "cell_type": "code",
   "execution_count": null,
   "id": "b087447c",
   "metadata": {},
   "outputs": [],
   "source": [
    "distance_to_nearest_integer(overtone_to_semitones(16))"
   ]
  },
  {
   "cell_type": "code",
   "execution_count": null,
   "id": "cfff6c42",
   "metadata": {},
   "outputs": [],
   "source": [
    "print(overtone_to_semitones(16))\n",
    "print(overtone_to_semitones(16) + 0.21)\n",
    "# 4, 10, 6, 11"
   ]
  },
  {
   "cell_type": "code",
   "execution_count": null,
   "id": "21b3ceae",
   "metadata": {},
   "outputs": [],
   "source": [
    "base = overtone_to_semitones(16)\n",
    "altered = None\n",
    "best = 0\n",
    "bestest = None\n",
    "n_better = 0\n",
    "\n",
    "for delta in range(1, 51):\n",
    "    shifted = base + delta / 100\n",
    "\n",
    "    # get indices where shifted is a better approximation than standard\n",
    "    loc = distance_to_nearest_integer(shifted) < distance_to_nearest_integer(base)\n",
    "    new_n_better = sum(loc)\n",
    "    if new_n_better > n_better:\n",
    "        n_better = new_n_better\n",
    "        altered = shifted\n",
    "        bestest = loc\n",
    "        best = delta\n",
    "\n",
    "print(best, sum(bestest))\n",
    "print(\"============\")\n",
    "for i, (s, a, w) in enumerate(zip(base, altered, bestest)):\n",
    "    print(\n",
    "        i + 1,\n",
    "        \"\\t\",\n",
    "        np.round(s),\n",
    "        \"\\t\",\n",
    "        np.round(a),\n",
    "        \"\\t\",\n",
    "        [\"-\", \"*\"][w.astype(\"int\")],\n",
    "        f\"{distance_to_nearest_integer(a):.2f}\",\n",
    "    )"
   ]
  },
  {
   "cell_type": "code",
   "execution_count": null,
   "id": "spectacular-uncle",
   "metadata": {},
   "outputs": [],
   "source": [
    "def transpose(x, n):\n",
    "    return x[-n:] + x[:-n]\n",
    "\n",
    "\n",
    "class Necklace(tuple):\n",
    "    def __eq__(self, other):\n",
    "        for idx in range(len(self)):\n",
    "            if tuple.__eq__(transpose(self, idx), other):\n",
    "                return True\n",
    "        return False"
   ]
  },
  {
   "cell_type": "code",
   "execution_count": null,
   "id": "ccd96e71",
   "metadata": {},
   "outputs": [],
   "source": [
    "def join(a, b):\n",
    "    assert a[-1] == b[0]\n",
    "    return a[:-1] + b"
   ]
  },
  {
   "cell_type": "code",
   "execution_count": null,
   "id": "ed2c3517-5eff-4102-a9c2-328720c33fba",
   "metadata": {
    "tags": []
   },
   "outputs": [],
   "source": [
    "def is_proper(scale):\n",
    "    steps = len(scale)\n",
    "\n",
    "    compounds = []\n",
    "    for group in range(1, steps):\n",
    "        compounds.append([sum(scale[(i + g) % steps] for g in range(group)) for i in range(steps)])\n",
    "\n",
    "    return all(all(a < b for a, b in product(c1, c2)) for c1, c2 in zip(compounds, compounds[1:]))"
   ]
  },
  {
   "cell_type": "code",
   "execution_count": null,
   "id": "2cacc644",
   "metadata": {},
   "outputs": [],
   "source": [
    "def get_harmonic_scales(seconds, thirds, edo=31):\n",
    "    scales = []\n",
    "    pairs = [list(p) for p in product(seconds, seconds) if sum(p) in thirds]\n",
    "    matching_pairs = [join(*s) for s in product(pairs, pairs) if s[0][-1] == s[1][0]]\n",
    "\n",
    "    # what is this 6?\n",
    "    for _ in range(9):\n",
    "        matching_pairs = [join(*s) for s in product(matching_pairs, pairs) if s[0][-1] == s[1][0]]\n",
    "        matching_pairs = [s for s in matching_pairs if sum(s) <= edo]\n",
    "        for s in matching_pairs:\n",
    "            if sum(s) == edo and [s[-1], s[0]] in pairs and is_proper(s):\n",
    "                if not any([Necklace(s) == Necklace(d) for d in scales]):\n",
    "                    scales.append(s)\n",
    "        matching_pairs = [s for s in matching_pairs if sum(s) < edo]\n",
    "\n",
    "    return scales"
   ]
  },
  {
   "cell_type": "code",
   "execution_count": null,
   "id": "empty-dublin",
   "metadata": {},
   "outputs": [],
   "source": [
    "def delta_to_cents(deltas, edo=31):\n",
    "    return list(accumulate([(12 / edo) * d for d in deltas]))"
   ]
  },
  {
   "cell_type": "code",
   "execution_count": null,
   "id": "acute-letters",
   "metadata": {},
   "outputs": [],
   "source": [
    "def count_n_5ths(scale, fifth_step=18):\n",
    "    n5ths = 0\n",
    "    for i in range(len(scale)):\n",
    "        if sum(transpose(scale, i)[:4]) == fifth_step:\n",
    "            n5ths += 1\n",
    "\n",
    "    return n5ths"
   ]
  },
  {
   "cell_type": "code",
   "execution_count": null,
   "id": "be273afb",
   "metadata": {
    "tags": []
   },
   "outputs": [],
   "source": [
    "# Only for 31-EDO\n",
    "\n",
    "\n",
    "def distance_from_major(scale):\n",
    "    major = tuple(accumulate([3, 5, 5, 3, 5, 5, 5], initial=0))\n",
    "    distance = 99999\n",
    "    for i in range(len(scale)):\n",
    "        ts = transpose(scale, i)\n",
    "        ts = tuple(accumulate(ts, initial=0))\n",
    "        d = sum([abs(x - y) for x, y in zip(major, ts)])\n",
    "        if d < distance:\n",
    "            distance = d\n",
    "\n",
    "    return distance"
   ]
  },
  {
   "cell_type": "code",
   "execution_count": null,
   "id": "several-turtle",
   "metadata": {
    "tags": []
   },
   "outputs": [],
   "source": [
    "allowed_seconds = [1, 2, 3, 4, 5, 6, 7, 8, 9, 10]\n",
    "allowed_thirds = [7, 8, 9, 10, 11]\n",
    "scales = get_harmonic_scales(allowed_seconds, allowed_thirds, edo=31)\n",
    "scales.sort(key=count_n_5ths, reverse=True)"
   ]
  },
  {
   "cell_type": "code",
   "execution_count": null,
   "id": "appropriate-medicine",
   "metadata": {
    "tags": []
   },
   "outputs": [],
   "source": [
    "print(len(scales))\n",
    "for s in scales:\n",
    "    print(\n",
    "        str(count_n_5ths(s))\n",
    "        + \": \"\n",
    "        + str(s)\n",
    "        + \" => \"\n",
    "        + str([f\"{p:.2f}\" for p in delta_to_cents(s)])\n",
    "    )"
   ]
  },
  {
   "cell_type": "code",
   "execution_count": null,
   "id": "af680732",
   "metadata": {
    "tags": []
   },
   "outputs": [],
   "source": [
    "for i in [5, 6, 7, 8, 9]:\n",
    "    diatonic = [s for s in scales if len(s) == i]\n",
    "    print(i, len(diatonic))"
   ]
  },
  {
   "cell_type": "code",
   "execution_count": null,
   "id": "35a8c600-a2b8-4531-a8e8-a27407374666",
   "metadata": {
    "tags": []
   },
   "outputs": [],
   "source": [
    "[s for s in scales if set(s) == set([3, 5, 7])]"
   ]
  },
  {
   "cell_type": "code",
   "execution_count": null,
   "id": "33765c1b-2f32-4efb-bc71-ee9cfd1a6b09",
   "metadata": {
    "tags": []
   },
   "outputs": [],
   "source": [
    "[s for s in scales if 7 in s and len(s) == 7]"
   ]
  },
  {
   "cell_type": "markdown",
   "id": "40d8e403",
   "metadata": {},
   "source": [
    "# Notes\n",
    "\n",
    "subminor and supermajor 3rds come from the 7th harmonic\n",
    "neutral 3rd comes from the 11th harmonic\n",
    "\n",
    "31-EDO captures neutral 3rds better than sub/super minor/major 3rds"
   ]
  },
  {
   "cell_type": "markdown",
   "id": "nutritional-victorian",
   "metadata": {},
   "source": [
    "# standard triadic modes of new ottoman\n",
    "```\n",
    "major = [3, 5, 5, 3, 5, 5, 5]\n",
    "harmonic_minor = [3, 5, 5, 3, 7, 3, 5]\n",
    "melodic_mior = [3, 5, 5, 5, 5, 3, 5]\n",
    "harmonic_major = [5, 3, 7, 3, 5, 5, 3]\n",
    "```\n",
    "\n",
    "In the above scales 1-step interval is forbidden and only major and minor 3rds are allowed.\n",
    "\n",
    "In general we can also allow neutral, septimal minor, and septimal major thirds. We can also allow a 1-step interval but that sounds awful."
   ]
  },
  {
   "cell_type": "code",
   "execution_count": null,
   "id": "sustainable-strategy",
   "metadata": {
    "tags": []
   },
   "outputs": [],
   "source": [
    "def ji_to_edo(h, edo=31):\n",
    "    return (edo * np.log2(h)) % edo"
   ]
  },
  {
   "cell_type": "code",
   "execution_count": null,
   "id": "939684e5",
   "metadata": {
    "tags": []
   },
   "outputs": [],
   "source": [
    "ji_to_edo(7 / 3, 31)"
   ]
  },
  {
   "cell_type": "code",
   "execution_count": null,
   "id": "edb60ab8",
   "metadata": {
    "tags": []
   },
   "outputs": [],
   "source": [
    "ji_to_edo(9 / 7, 31)"
   ]
  },
  {
   "cell_type": "code",
   "execution_count": null,
   "id": "e31a6316",
   "metadata": {
    "tags": []
   },
   "outputs": [],
   "source": [
    "ji_to_edo(11 / 9, 31)"
   ]
  },
  {
   "cell_type": "code",
   "execution_count": null,
   "id": "2cf12c5c",
   "metadata": {
    "tags": []
   },
   "outputs": [],
   "source": [
    "ji_to_edo(27 / 11, 31)"
   ]
  },
  {
   "cell_type": "markdown",
   "id": "sudden-colony",
   "metadata": {},
   "source": [
    "# TODO\n",
    "\n",
    "- [X] A single function to generate all scales given allowed 3rds and allowed 2nds\n",
    "- [ ] Play all modes of all scales using librosa or something.\n",
    "- [X] Sort by number of perfect 5ths\n",
    "- [ ] Find all scales where pitch classes = `[0, 5, *, 13, 18, *, *]` (why though?)"
   ]
  },
  {
   "cell_type": "code",
   "execution_count": null,
   "id": "alternative-alcohol",
   "metadata": {
    "tags": []
   },
   "outputs": [],
   "source": [
    "def delta_to_pulse(deltas):\n",
    "    pulses = sum([[1] + (k - 1) * [0] for k in deltas], start=[])\n",
    "    return pulses\n",
    "\n",
    "\n",
    "def pulse_to_delta(pulses):\n",
    "    deltas = []\n",
    "    delta = 1\n",
    "\n",
    "    for idx, val in enumerate(pulses[1:]):\n",
    "        if val == 0:\n",
    "            delta += 1\n",
    "            continue\n",
    "        deltas.append(delta)\n",
    "        delta = 1\n",
    "    deltas.append(delta)\n",
    "\n",
    "    return deltas"
   ]
  },
  {
   "cell_type": "code",
   "execution_count": null,
   "id": "35789b6c-6677-47b2-9077-997e614ca4eb",
   "metadata": {},
   "outputs": [],
   "source": []
  }
 ],
 "metadata": {
  "kernelspec": {
   "display_name": "Python 3 (ipykernel)",
   "language": "python",
   "name": "python3"
  },
  "language_info": {
   "codemirror_mode": {
    "name": "ipython",
    "version": 3
   },
   "file_extension": ".py",
   "mimetype": "text/x-python",
   "name": "python",
   "nbconvert_exporter": "python",
   "pygments_lexer": "ipython3",
   "version": "3.11.3"
  }
 },
 "nbformat": 4,
 "nbformat_minor": 5
}
