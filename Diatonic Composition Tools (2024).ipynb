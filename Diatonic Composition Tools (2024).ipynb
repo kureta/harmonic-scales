{
 "cells": [
  {
   "cell_type": "markdown",
   "id": "8320c3cb-c13d-4ddf-9c87-11e171a0d98c",
   "metadata": {},
   "source": [
    "# Scales of thirds\n",
    "\n",
    "All valid scales have either a minor or a major third interval between every other scale not. Only scales staisfying this requirement are modes of major, melodic minor, harmonic minor, harmonic major, octatonic, augmented, and hole tone scales.\n",
    "\n",
    "Given a set of pitch classes:\n",
    "\n",
    "- in how many ways these can be a subset of any scales\n",
    "- list allowed transformations of this (i.e. move a note up or down a step)\n",
    "\n",
    "## TODO:\n",
    "\n",
    "I wrote a harmonicity calculator and most consonant/dissonant basse voice finder. Where is it?"
   ]
  },
  {
   "cell_type": "code",
   "execution_count": null,
   "id": "2ee96054-229b-4daf-87b6-c8f233f2f053",
   "metadata": {
    "tags": []
   },
   "outputs": [],
   "source": [
    "from collections import Counter, defaultdict, deque\n",
    "from copy import copy"
   ]
  },
  {
   "cell_type": "code",
   "execution_count": null,
   "id": "ebf2302b-f5e1-4dbc-a996-d778323f8a51",
   "metadata": {
    "tags": []
   },
   "outputs": [],
   "source": [
    "def contains(this, other):\n",
    "    return all([(a and b) or not a for a, b in zip(other, this)])"
   ]
  },
  {
   "cell_type": "code",
   "execution_count": null,
   "id": "49361782-9bbd-45a1-941e-8c81cf8aadaf",
   "metadata": {
    "tags": []
   },
   "outputs": [],
   "source": [
    "class Necklace(deque):\n",
    "    def __init__(self, value):\n",
    "        super().__init__(value)\n",
    "        # number of transpositions\n",
    "        n_t = 0\n",
    "        me, you = deque(value), deque(value)\n",
    "        for idx in range(len(value)):\n",
    "            if me == you:\n",
    "                n_t += 1\n",
    "            you.rotate()\n",
    "        self.n_t = 12 // n_t\n",
    "\n",
    "    def __eq__(self, other):\n",
    "        assert len(self) == len(other)\n",
    "        other = copy(other)\n",
    "        for idx in range(self.n_t):\n",
    "            if deque.__eq__(self, other):\n",
    "                return True\n",
    "            other.rotate()\n",
    "        return False\n",
    "\n",
    "    def __ge__(self, other):\n",
    "        assert len(self) == len(other)\n",
    "        other = copy(other)\n",
    "        result = 0\n",
    "        for idx in range(self.n_t):\n",
    "            if contains(self, other):\n",
    "                result += 1\n",
    "            other.rotate()\n",
    "        return result\n",
    "\n",
    "    def __hash__(self):\n",
    "        cache = [self.copy() for _ in range(len(self))]\n",
    "        for n, val in enumerate(cache):\n",
    "            val.rotate(n)\n",
    "            cache[n] = tuple(val)\n",
    "\n",
    "        return hash(frozenset(Counter(tuple(cache)).items()))"
   ]
  },
  {
   "cell_type": "code",
   "execution_count": null,
   "id": "97483581-5b31-45e7-837b-98682f422a36",
   "metadata": {
    "tags": []
   },
   "outputs": [],
   "source": [
    "major = [1, 0, 1, 0, 1, 1, 0, 1, 0, 1, 0, 1]\n",
    "melodic_minor = [1, 0, 1, 1, 0, 1, 0, 1, 0, 1, 0, 1]\n",
    "harmonic_minor = [1, 0, 1, 1, 0, 1, 0, 1, 1, 0, 0, 1]\n",
    "harmonic_major = [1, 0, 1, 0, 1, 1, 0, 1, 1, 0, 0, 1]\n",
    "wholetone = [1, 0, 1, 0, 1, 0, 1, 0, 1, 0, 1, 0]  # 2 transpositions, 1 mode\n",
    "octatonic = [1, 0, 1, 1, 0, 1, 1, 0, 1, 1, 0, 1]  # 3 transpositions, 2 modes\n",
    "augmented = [1, 1, 0, 0, 1, 1, 0, 0, 1, 1, 0, 0]  # 4 transpositions, 2 modes"
   ]
  },
  {
   "cell_type": "code",
   "execution_count": null,
   "id": "0c4e16bc-069b-4605-8607-24eb03806324",
   "metadata": {
    "tags": []
   },
   "outputs": [],
   "source": [
    "scales = {\n",
    "    \"major\": Necklace(major),\n",
    "    \"melodic_minor\": Necklace(melodic_minor),\n",
    "    \"harmonic_major\": Necklace(harmonic_major),\n",
    "    \"harmonic_minor\": Necklace(harmonic_minor),\n",
    "    \"wholetone\": Necklace(wholetone),\n",
    "    \"octatonic\": Necklace(octatonic),\n",
    "    \"augmented\": Necklace(augmented),\n",
    "}"
   ]
  },
  {
   "cell_type": "code",
   "execution_count": null,
   "id": "4ffe73ac-7b3c-4304-b1f7-c953c84c754d",
   "metadata": {
    "tags": []
   },
   "outputs": [],
   "source": [
    "def get_children(scale):\n",
    "    index = -1\n",
    "    children = []\n",
    "    for idx in range(sum(scale)):\n",
    "        index = scale.index(1, index + 1)\n",
    "        current = copy(scale)\n",
    "        current[index] = 0\n",
    "        # TODO: return tuple of child and number of occurrences\n",
    "        if current not in children:\n",
    "            children.append(current)\n",
    "\n",
    "    return children"
   ]
  },
  {
   "cell_type": "code",
   "execution_count": null,
   "id": "8a65ec0e-e1ad-4b9c-ba50-acc24b46f1e5",
   "metadata": {
    "tags": []
   },
   "outputs": [],
   "source": [
    "chords = defaultdict(list)\n",
    "\n",
    "chords[8].append(scales[\"octatonic\"])\n",
    "chords[7].extend(\n",
    "    [scales[\"major\"], scales[\"melodic_minor\"], scales[\"harmonic_minor\"], scales[\"harmonic_major\"]]\n",
    ")\n",
    "chords[6].extend([scales[\"augmented\"], scales[\"wholetone\"]])"
   ]
  },
  {
   "cell_type": "code",
   "execution_count": null,
   "id": "25f92061-6524-4b52-8c3f-66588c0dda19",
   "metadata": {
    "tags": []
   },
   "outputs": [],
   "source": [
    "for n in range(8, 1, -1):\n",
    "    for chord in chords[n]:\n",
    "        for sub_chord in get_children(chord):\n",
    "            if sub_chord not in chords[n - 1]:\n",
    "                chords[n - 1].append(sub_chord)"
   ]
  },
  {
   "cell_type": "code",
   "execution_count": null,
   "id": "de13327d-a9d3-4097-8721-267256c710eb",
   "metadata": {
    "tags": []
   },
   "outputs": [],
   "source": [
    "for key, value in chords.items():\n",
    "    print(f\"number of {key} voice chords = {len(value)}\")"
   ]
  },
  {
   "cell_type": "code",
   "execution_count": null,
   "id": "9e9fb256-6505-4e5d-bf2c-4db743f749b7",
   "metadata": {},
   "outputs": [],
   "source": []
  }
 ],
 "metadata": {
  "kernelspec": {
   "display_name": "Python 3 (ipykernel)",
   "language": "python",
   "name": "python3"
  },
  "language_info": {
   "codemirror_mode": {
    "name": "ipython",
    "version": 3
   },
   "file_extension": ".py",
   "mimetype": "text/x-python",
   "name": "python",
   "nbconvert_exporter": "python",
   "pygments_lexer": "ipython3",
   "version": "3.11.8"
  }
 },
 "nbformat": 4,
 "nbformat_minor": 5
}
